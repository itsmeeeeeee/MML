{
  "nbformat": 4,
  "nbformat_minor": 0,
  "metadata": {
    "colab": {
      "provenance": [],
      "include_colab_link": true
    },
    "kernelspec": {
      "name": "python3",
      "display_name": "Python 3"
    },
    "language_info": {
      "name": "python"
    }
  },
  "cells": [
    {
      "cell_type": "markdown",
      "metadata": {
        "id": "view-in-github",
        "colab_type": "text"
      },
      "source": [
        "<a href=\"https://colab.research.google.com/github/itsmeeeeeee/MML/blob/main/MMFA_RNN.ipynb\" target=\"_parent\"><img src=\"https://colab.research.google.com/assets/colab-badge.svg\" alt=\"Open In Colab\"/></a>"
      ]
    },
    {
      "cell_type": "markdown",
      "source": [
        "#Multimodal Fusion Model with Self-Attention (MMFA) and RNN Classifier"
      ],
      "metadata": {
        "id": "8NVvY_zNQKAz"
      }
    },
    {
      "cell_type": "code",
      "source": [
        "import os\n",
        "import numpy as np\n",
        "import pandas as pd\n",
        "import torch\n",
        "import torch.nn as nn\n",
        "import torch.optim as optim\n",
        "from torch.utils.data import DataLoader, TensorDataset\n",
        "from sklearn.model_selection import train_test_split\n",
        "from torchvision import models, transforms\n",
        "from PIL import Image, ImageFile\n",
        "\n",
        "import torch.nn.functional as F\n",
        "from torch.optim.lr_scheduler import ReduceLROnPlateau\n",
        "\n",
        "# Mount Google Drive\n",
        "from google.colab import drive\n",
        "drive.mount('/content/drive', force_remount=True)"
      ],
      "metadata": {
        "colab": {
          "base_uri": "https://localhost:8080/"
        },
        "id": "T8a9Rc7Ojewz",
        "outputId": "1000ad3b-06bd-4211-b791-55e2ef8c2312"
      },
      "execution_count": 2,
      "outputs": [
        {
          "output_type": "stream",
          "name": "stdout",
          "text": [
            "Mounted at /content/drive\n"
          ]
        }
      ]
    },
    {
      "cell_type": "code",
      "source": [
        "import pandas as pd\n",
        "import numpy as np\n",
        "import torch\n",
        "\n",
        "# Load labels from CSV\n",
        "file_path_labels = \"/content/drive/MyDrive/MultimodalNLP/projekt/data/labels.csv\"\n",
        "labeled_data = pd.read_csv(file_path_labels)\n",
        "labels = labeled_data['overall_sentiment'].values\n",
        "\n",
        "# Define your existing mapping\n",
        "label_mapping = {\n",
        "    \"very_negative\": 0,\n",
        "    \"negative\": 0,\n",
        "    \"positive\": 1,\n",
        "    \"very_positive\": 1\n",
        "}\n",
        "\n",
        "# Get valid indices for labels that exist in the mapping\n",
        "valid_indices = [i for i, label in enumerate(labels) if label in label_mapping]\n",
        "filtered_labels = [labels[i] for i in valid_indices]\n",
        "\n",
        "# Apply the mapping to convert filtered text labels to numeric labels\n",
        "numeric_labels = np.array([label_mapping[label] for label in filtered_labels])\n",
        "\n",
        "# Convert labels to a torch tensor\n",
        "numeric_labels = torch.tensor(numeric_labels, dtype=torch.long)\n",
        "print(\"numeric labels:\", numeric_labels.shape)\n",
        "\n",
        "# Load image features\n",
        "file_path_im = \"/content/drive/MyDrive/MultimodalNLP/projekt/features_data/image_features_restnet.npy\"\n",
        "image_features = np.load(file_path_im)\n",
        "\n",
        "# Load text features\n",
        "file_path_emb = \"/content/drive/MyDrive/MultimodalNLP/projekt/features_data/text_features_bert.npy\"\n",
        "text_features = np.load(file_path_emb)\n",
        "\n",
        "# Filter image and text features using valid indices\n",
        "filtered_image_features = torch.tensor(image_features[valid_indices], dtype=torch.float32)\n",
        "filtered_text_features = torch.tensor(text_features[valid_indices], dtype=torch.float32)\n",
        "\n",
        "print(\"Filtered Image features:\", filtered_image_features.shape)\n",
        "print(\"Filtered Text features:\", filtered_text_features.shape)\n"
      ],
      "metadata": {
        "colab": {
          "base_uri": "https://localhost:8080/"
        },
        "id": "4_r0i9Tc2mTA",
        "outputId": "eafb30f1-450b-46f9-ae44-37931e66f2fa"
      },
      "execution_count": 3,
      "outputs": [
        {
          "output_type": "stream",
          "name": "stdout",
          "text": [
            "numeric labels: torch.Size([4791])\n",
            "Filtered Image features: torch.Size([4791, 1000])\n",
            "Filtered Text features: torch.Size([4791, 768])\n"
          ]
        }
      ]
    },
    {
      "cell_type": "code",
      "source": [
        "from sklearn.model_selection import train_test_split\n",
        "from torch.utils.data import DataLoader, TensorDataset\n",
        "\n",
        "\n",
        "\"\"\"\n",
        "Split the initial dataset into training and preliminary testing sets.\n",
        "20% of the data is reserved for preliminary testing, and 80% is used for training.\n",
        "\"\"\"\n",
        "train_text, prelim_test_text, train_image, prelim_test_image, train_labels, prelim_test_labels = train_test_split(\n",
        "    filtered_text_features, filtered_image_features, numeric_labels, test_size=0.2, random_state=42\n",
        ")\n",
        "\n",
        "\"\"\"\n",
        "Further split the preliminary testing data into validation and final test sets.\n",
        "40% of the preliminary test data is used for validation and 60% for the final testing.\n",
        "\"\"\"\n",
        "val_text, test_text, val_image, test_image, val_labels, test_labels = train_test_split(\n",
        "    prelim_test_text, prelim_test_image, prelim_test_labels, test_size=0.6, random_state=42\n",
        ")"
      ],
      "metadata": {
        "id": "HtBK4yrf0U72"
      },
      "execution_count": 4,
      "outputs": []
    },
    {
      "cell_type": "code",
      "source": [
        "from torch.utils.data import DataLoader, TensorDataset\n",
        "\n",
        "# DataLoaders für Training, Validierung und Test\n",
        "train_dataset = TensorDataset(train_text, train_image, train_labels)\n",
        "train_loader = DataLoader(train_dataset, batch_size=128, shuffle=True)\n",
        "\n",
        "val_dataset = TensorDataset(val_text, val_image, val_labels)\n",
        "val_loader = DataLoader(val_dataset, batch_size=128, shuffle=False)\n",
        "\n",
        "test_dataset = TensorDataset(test_text, test_image, test_labels)\n",
        "test_loader = DataLoader(test_dataset, batch_size=128, shuffle=False)\n"
      ],
      "metadata": {
        "id": "su4sOu9FzzWl"
      },
      "execution_count": 5,
      "outputs": []
    },
    {
      "cell_type": "code",
      "source": [
        "\"\"\"\n",
        "Implementing a self-attention module based on the concept explained in:\n",
        "https://medium.com/@wangdk93/implement-self-attention-and-cross-attention-in-pytorch-1f1a366c9d4b#d075\n",
        "\n",
        "\"\"\"\n",
        "class SelfAttention(nn.Module):\n",
        "    def __init__(self, feature_dim, dropout=0.1):\n",
        "        super(SelfAttention, self).__init__()\n",
        "\n",
        "        # Scaling factor to normalize the dot products\n",
        "        self.scale = 1.0 / (feature_dim ** 0.5)\n",
        "\n",
        "       # Linear transformations for the query, key, and value vectors\n",
        "        self.query = nn.Linear(feature_dim, feature_dim)\n",
        "        self.key = nn.Linear(feature_dim, feature_dim)\n",
        "        self.value = nn.Linear(feature_dim, feature_dim)\n",
        "        #dropout\n",
        "        #self.dropout = nn.Dropout(dropout)\n",
        "\n",
        "    def forward(self, x):\n",
        "        # Generate query, key, value tensors\n",
        "        queries = self.query(x.unsqueeze(1))\n",
        "        keys = self.key(x.unsqueeze(1))\n",
        "        values = self.value(x.unsqueeze(1))\n",
        "\n",
        "        # Calculate the attention scores and apply softmax\n",
        "        scores = torch.bmm(queries, keys.transpose(1, 2)) * self.scale\n",
        "        attention_weights = F.softmax(scores, dim=-1)\n",
        "        # dropout\n",
        "        #attention_weights = self.dropout(attention_weights)\n",
        "\n",
        "        # Multiply the attention weights by the values\n",
        "        weighted = torch.bmm(attention_weights, values)\n",
        "        return weighted.squeeze(1)"
      ],
      "metadata": {
        "id": "XBbwYsqb8Zlp"
      },
      "execution_count": 6,
      "outputs": []
    },
    {
      "cell_type": "code",
      "source": [
        "import torch\n",
        "import torch.nn as nn\n",
        "import torch.nn.functional as F\n",
        "\n",
        "class Classifier_RNN(nn.Module):\n",
        "    def __init__(self, input_dim, hidden_dim, num_layers, num_classes):\n",
        "        super(Classifier_RNN, self).__init__()\n",
        "        self.rnn = nn.RNN(input_dim, hidden_dim, num_layers, batch_first=True, bidirectional=False)\n",
        "        self.fc = nn.Linear(hidden_dim, num_classes)  # unidirektionales RNN\n",
        "\n",
        "    def forward(self, x):\n",
        "        # Initialisiere den versteckten Zustand\n",
        "        batch_size = x.size(0)\n",
        "        h0 = torch.zeros(self.rnn.num_layers, batch_size, self.rnn.hidden_size).to(x.device)\n",
        "\n",
        "        out, _ = self.rnn(x, h0)\n",
        "        out = self.fc(out[:, -1, :])  # Verwende den letzten Zeitschritt des Outputs\n",
        "        return out\n",
        "\n",
        "class MultimodalFusionRNNClassifier(nn.Module):\n",
        "    def __init__(self, text_dim, image_dim, hidden_dim, rnn_hidden_dim, num_classes):\n",
        "        super(MultimodalFusionRNNClassifier, self).__init__()\n",
        "        self.text_model = nn.Linear(text_dim, hidden_dim)\n",
        "        self.image_model = nn.Linear(image_dim, hidden_dim)\n",
        "\n",
        "        # Self-attention module für die Verfeinerung der Text- und Bildmerkmale\n",
        "        self.text_attention = SelfAttention(hidden_dim)\n",
        "        self.image_attention = SelfAttention(hidden_dim)\n",
        "\n",
        "        # RNN Klassifikator\n",
        "        self.classifier = Classifier_RNN(hidden_dim * 2, rnn_hidden_dim, num_layers=2, num_classes=num_classes)\n",
        "\n",
        "    def forward(self, text_features, image_features):\n",
        "        text_features = self.text_model(text_features)  # [batch_size, hidden_dim]\n",
        "        image_features = self.image_model(image_features)  # [batch_size, hidden_dim]\n",
        "\n",
        "        text_features = self.text_attention(text_features)\n",
        "        image_features = self.image_attention(image_features)\n",
        "\n",
        "        # Kombinieren der Text- und Bildfeatures\n",
        "        combined_features = torch.cat([text_features, image_features], dim=1)\n",
        "        combined_features = combined_features.unsqueeze(1)  # Hinzufügen einer Sequenz-Dimension\n",
        "\n",
        "        # Klassifizierung\n",
        "        output = self.classifier(combined_features)\n",
        "        return output\n"
      ],
      "metadata": {
        "id": "_o8yFVgFEMJm"
      },
      "execution_count": 7,
      "outputs": []
    },
    {
      "cell_type": "code",
      "source": [
        "\"\"\"\n",
        "Training and validation loop for a Multimodal Fusion Classifier.\n",
        "The code for the loop structure is adapted from Sebastian Raschka's guide on training loops in PyTorch:\n",
        "https://sebastianraschka.com/faq/docs/training-loop-in-pytorch.html\n",
        "\n",
        "Early stopping implementation inspired by: https://keras.io/api/callbacks/early_stopping/\n",
        "\"\"\"\n",
        "\n",
        "\n",
        "import torch\n",
        "import numpy as np\n",
        "\n",
        "def train_model(model, train_loader, val_loader, epochs, optimizer, criterion, scheduler, patience=10):\n",
        "    trigger_times = 0  # Zähler für die Anzahl der Male, bei denen sich der Validierungsverlust nicht verbessert hat\n",
        "    best_val_loss = float('inf')  # Initialisierung des besten Validierungsverlusts\n",
        "    best_model = None  # Zum Speichern des besten Modellzustands\n",
        "\n",
        "    for epoch in range(epochs):\n",
        "        model.train()  # Setze das Modell in den Trainingsmodus\n",
        "        total_train_loss = 0\n",
        "        for texts, images, labels in train_loader:\n",
        "            optimizer.zero_grad()  # Setze Gradienten auf Null für einen neuen Optimierungsschritt\n",
        "            outputs = model(texts, images)\n",
        "            loss = criterion(outputs, labels)  # Berechne den Verlust\n",
        "            loss.backward()\n",
        "            optimizer.step()\n",
        "            total_train_loss += loss.item()  # Akkumuliere Verlust über das Epoch\n",
        "\n",
        "        model.eval()  # Setze das Modell in den Evaluierungsmodus\n",
        "        total_val_loss = 0\n",
        "        with torch.no_grad():\n",
        "            for texts, images, labels in val_loader:\n",
        "                outputs = model(texts, images)\n",
        "                loss = criterion(outputs, labels)\n",
        "                total_val_loss += loss.item()\n",
        "\n",
        "        average_train_loss = total_train_loss / len(train_loader)\n",
        "        average_val_loss = total_val_loss / len(val_loader)\n",
        "        print(f'Epoch {epoch+1}: Training Loss: {average_train_loss:.4f} | Validation Loss: {average_val_loss:.4f}')\n",
        "\n",
        "        scheduler.step(average_val_loss)\n",
        "\n",
        "        # Aktualisiere den Trigger-Zähler und überprüfe das Early Stopping\n",
        "        if average_val_loss < best_val_loss:\n",
        "            best_val_loss = average_val_loss\n",
        "            best_model = model.state_dict()  # Speichere den besten Modellzustand\n",
        "            trigger_times = 0  # Setze den Trigger-Zähler zurück, da wir einen neuen Bestwert gefunden haben\n",
        "        else:\n",
        "            trigger_times += 1  # Inkrementiere den Trigger-Zähler\n",
        "            if trigger_times >= patience:\n",
        "                print('Early stopping triggered!')\n",
        "                break\n",
        "\n",
        "    # Lade den besten Modellzustand in das Modell und gebe das Modell zurück\n",
        "    if best_model:\n",
        "        model.load_state_dict(best_model)\n",
        "    return model\n",
        "\n",
        "# Model aufruf für die Funktion\n",
        "model = MultimodalFusionRNNClassifier(text_dim=768, image_dim=1000, hidden_dim=128, rnn_hidden_dim=256, num_classes=2)\n",
        "\n",
        "optimizer = torch.optim.Adam(model.parameters(), lr=0.001)\n",
        "criterion = torch.nn.CrossEntropyLoss()\n",
        "scheduler = torch.optim.lr_scheduler.ReduceLROnPlateau(optimizer, 'min')\n",
        "\n",
        "best_model_rnn = train_model(model, train_loader, val_loader, 50, optimizer, criterion, scheduler, patience=10)\n"
      ],
      "metadata": {
        "colab": {
          "base_uri": "https://localhost:8080/"
        },
        "id": "EAA1i9ERfNLJ",
        "outputId": "76b43f47-a806-4fe6-bd57-81064b126065"
      },
      "execution_count": 8,
      "outputs": [
        {
          "output_type": "stream",
          "name": "stdout",
          "text": [
            "Epoch 1: Training Loss: 0.4268 | Validation Loss: 0.3996\n",
            "Epoch 2: Training Loss: 0.4033 | Validation Loss: 0.3914\n",
            "Epoch 3: Training Loss: 0.4000 | Validation Loss: 0.3910\n",
            "Epoch 4: Training Loss: 0.3994 | Validation Loss: 0.3886\n",
            "Epoch 5: Training Loss: 0.3958 | Validation Loss: 0.3958\n",
            "Epoch 6: Training Loss: 0.3970 | Validation Loss: 0.3962\n",
            "Epoch 7: Training Loss: 0.3993 | Validation Loss: 0.3929\n",
            "Epoch 8: Training Loss: 0.3979 | Validation Loss: 0.3927\n",
            "Epoch 9: Training Loss: 0.3964 | Validation Loss: 0.3912\n",
            "Epoch 10: Training Loss: 0.3884 | Validation Loss: 0.3947\n",
            "Epoch 11: Training Loss: 0.3856 | Validation Loss: 0.3970\n",
            "Epoch 12: Training Loss: 0.3803 | Validation Loss: 0.4024\n",
            "Epoch 13: Training Loss: 0.3776 | Validation Loss: 0.4014\n",
            "Epoch 14: Training Loss: 0.3704 | Validation Loss: 0.3917\n",
            "Early stopping triggered!\n"
          ]
        }
      ]
    },
    {
      "cell_type": "code",
      "source": [
        "\"\"\"\n",
        "Code is based on guidance from:\n",
        "- https://machinelearningmodels.org/evaluating-the-accuracy-score-of-your-machine-learning-model/\n",
        "- https://scikit-learn.org/stable/modules/model_evaluation.html#\n",
        "\n",
        "\"\"\"\n",
        "\n",
        "import torch\n",
        "import numpy as np\n",
        "from sklearn.metrics import accuracy_score, precision_score, recall_score, f1_score, confusion_matrix\n",
        "import matplotlib.pyplot as plt\n",
        "import seaborn as sns\n",
        "\n",
        "\n",
        "def evaluate_model(model, loader):\n",
        "    model.eval()\n",
        "    all_outputs = []\n",
        "    all_predictions = []\n",
        "    all_labels = []\n",
        "\n",
        "    with torch.no_grad():  # Deaktiviere die Gradientenberechnung\n",
        "        for texts, images, labels in loader:\n",
        "            outputs = model(texts, images)\n",
        "            _, predicted = torch.max(outputs.data, 1)\n",
        "            all_outputs.append(outputs.cpu().numpy())\n",
        "            all_predictions.extend(predicted.tolist())\n",
        "            all_labels.extend(labels.tolist())\n",
        "\n",
        "    # Berechne Metriken mit 'macro' Durchschnitt\n",
        "    test_accuracy = accuracy_score(all_labels, all_predictions)\n",
        "    test_precision = precision_score(all_labels, all_predictions, average='macro')\n",
        "    test_recall = recall_score(all_labels, all_predictions, average='macro')\n",
        "    test_f1 = f1_score(all_labels, all_predictions, average='macro')\n",
        "    test_conf_matrix = confusion_matrix(all_labels, all_predictions)\n",
        "\n",
        "    print(\"Test Accuracy:\", test_accuracy)\n",
        "    print(\"Precision (Macro):\", test_precision)\n",
        "    print(\"Recall (Macro):\", test_recall)\n",
        "    print(\"F1 Score (Macro):\", test_f1)\n",
        "    return test_accuracy, test_precision, test_recall, test_f1, test_conf_matrix\n",
        "\n",
        "test_accuracy, test_precision, test_recall, test_f1, test_conf_matrix = evaluate_model(best_model_rnn, test_loader)\n"
      ],
      "metadata": {
        "colab": {
          "base_uri": "https://localhost:8080/"
        },
        "outputId": "98049c69-4333-4925-f4c3-eeb9f0ec3b46",
        "id": "ijpGJ7p9fj__"
      },
      "execution_count": 9,
      "outputs": [
        {
          "output_type": "stream",
          "name": "stdout",
          "text": [
            "Test Accuracy: 0.8940972222222222\n",
            "Precision (Macro): 0.4493891797556719\n",
            "Recall (Macro): 0.4971042471042471\n",
            "F1 Score (Macro): 0.47204399633363886\n"
          ]
        }
      ]
    },
    {
      "cell_type": "code",
      "source": [
        "plt.figure(figsize=(6, 4))\n",
        "sns.heatmap(test_conf_matrix, annot=True, fmt='d', cmap='Blues', xticklabels=True, yticklabels=True)\n",
        "plt.xlabel('Predicted Labels')\n",
        "plt.ylabel('True Labels')\n",
        "plt.title('Confusion Matrix')\n",
        "plt.show()"
      ],
      "metadata": {
        "colab": {
          "base_uri": "https://localhost:8080/",
          "height": 410
        },
        "id": "aMDBuoPhQeOv",
        "outputId": "d658bb79-dda2-45ad-9088-48026ad3dc00"
      },
      "execution_count": 10,
      "outputs": [
        {
          "output_type": "display_data",
          "data": {
            "text/plain": [
              "<Figure size 600x400 with 2 Axes>"
            ],
            "image/png": "[encoded data removed]"
          },
          "metadata": {}
        }
      ]
    },
    {
      "cell_type": "code",
      "source": [],
      "metadata": {
        "id": "qtivCwYr85jC"
      },
      "execution_count": 10,
      "outputs": []
    }
  ]
}