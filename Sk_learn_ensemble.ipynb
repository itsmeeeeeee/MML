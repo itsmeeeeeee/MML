{
  "nbformat": 4,
  "nbformat_minor": 0,
  "metadata": {
    "colab": {
      "provenance": [],
      "authorship_tag": "ABX9TyPa0LNq6tUr/Ujmdu2pzLxU",
      "include_colab_link": true
    },
    "kernelspec": {
      "name": "python3",
      "display_name": "Python 3"
    },
    "language_info": {
      "name": "python"
    }
  },
  "cells": [
    {
      "cell_type": "markdown",
      "metadata": {
        "id": "view-in-github",
        "colab_type": "text"
      },
      "source": [
        "<a href=\"https://colab.research.google.com/github/itsmeeeeeee/MML/blob/main/Sk_learn_ensemble.ipynb\" target=\"_parent\"><img src=\"https://colab.research.google.com/assets/colab-badge.svg\" alt=\"Open In Colab\"/></a>"
      ]
    },
    {
      "cell_type": "markdown",
      "source": [
        "# Majority Voting Ensemble Method with SK-Learn framework"
      ],
      "metadata": {
        "id": "NHaqtyiszPIh"
      }
    },
    {
      "cell_type": "code",
      "source": [
        "import pandas as pd\n",
        "import torch\n",
        "import torch.nn as nn\n",
        "import numpy as np\n",
        "from sklearn.model_selection import train_test_split, KFold\n",
        "from sklearn.tree import DecisionTreeClassifier\n",
        "from sklearn.ensemble import AdaBoostClassifier, VotingClassifier\n",
        "from sklearn.metrics import accuracy_score, f1_score\n",
        "from sklearn.svm import SVC\n",
        "from sklearn.linear_model import LogisticRegression, LinearRegression\n",
        "from sklearn.neural_network import MLPClassifier"
      ],
      "metadata": {
        "id": "zjkemM6_ui25"
      },
      "execution_count": 1,
      "outputs": []
    },
    {
      "cell_type": "code",
      "execution_count": 2,
      "metadata": {
        "colab": {
          "base_uri": "https://localhost:8080/"
        },
        "id": "GdSBKglad0zZ",
        "outputId": "ed38393a-284b-4e3b-a5b8-270d0d42d520"
      },
      "outputs": [
        {
          "output_type": "stream",
          "name": "stdout",
          "text": [
            "Mounted at /content/drive\n"
          ]
        }
      ],
      "source": [
        "# Mount Google Drive\n",
        "from google.colab import drive\n",
        "drive.mount('/content/drive', force_remount=True)\n",
        "\n"
      ]
    },
    {
      "cell_type": "code",
      "source": [
        "import pandas as pd\n",
        "import numpy as np\n",
        "import torch\n",
        "\n",
        "# Load labels from CSV\n",
        "file_path_labels = \"/content/drive/MyDrive/MultimodalNLP/projekt/data/labels.csv\"\n",
        "labeled_data = pd.read_csv(file_path_labels)\n",
        "labels = labeled_data['overall_sentiment'].values\n",
        "\n",
        "# Define your existing mapping\n",
        "label_mapping = {\n",
        "    \"very_negative\": 0,\n",
        "    \"negative\": 0,\n",
        "    \"positive\": 1,\n",
        "    \"very_positive\": 1\n",
        "}\n",
        "\n",
        "# Get valid indices for labels that exist in the mapping\n",
        "valid_indices = [i for i, label in enumerate(labels) if label in label_mapping]\n",
        "filtered_labels = [labels[i] for i in valid_indices]\n",
        "\n",
        "# Apply the mapping to convert filtered text labels to numeric labels\n",
        "numeric_labels = np.array([label_mapping[label] for label in filtered_labels])\n",
        "\n",
        "# Convert labels to a torch tensor\n",
        "numeric_labels = torch.tensor(numeric_labels, dtype=torch.long)\n",
        "print(\"numeric labels:\", numeric_labels.shape)\n",
        "\n",
        "# Load image features\n",
        "file_path_im = \"/content/drive/MyDrive/MultimodalNLP/projekt/features_data/image_features_restnet.npy\"\n",
        "image_features = np.load(file_path_im)\n",
        "\n",
        "# Load text features\n",
        "file_path_emb = \"/content/drive/MyDrive/MultimodalNLP/projekt/features_data/text_features_bert.npy\"\n",
        "text_features = np.load(file_path_emb)\n",
        "\n",
        "# Filter image and text features using valid indices\n",
        "filtered_image_features = torch.tensor(image_features[valid_indices], dtype=torch.float32)\n",
        "filtered_text_features = torch.tensor(text_features[valid_indices], dtype=torch.float32)\n",
        "\n",
        "print(\"Filtered Image features:\", filtered_image_features.shape)\n",
        "print(\"Filtered Text features:\", filtered_text_features.shape)\n"
      ],
      "metadata": {
        "colab": {
          "base_uri": "https://localhost:8080/"
        },
        "id": "4_r0i9Tc2mTA",
        "outputId": "ca85dbd8-2c0a-453c-d7f7-835b985aff71"
      },
      "execution_count": 3,
      "outputs": [
        {
          "output_type": "stream",
          "name": "stdout",
          "text": [
            "numeric labels: torch.Size([4791])\n",
            "Filtered Image features: torch.Size([4791, 1000])\n",
            "Filtered Text features: torch.Size([4791, 768])\n"
          ]
        }
      ]
    },
    {
      "cell_type": "code",
      "execution_count": 5,
      "metadata": {
        "id": "P6O_s0UOgyPw"
      },
      "outputs": [],
      "source": [
        "\n",
        "\n",
        "# Split the data into training and testing sets\n",
        "\n",
        "\n",
        "train_text, test_text, train_image, test_image, train_labels, test_labels = train_test_split(\n",
        "    filtered_text_features, filtered_image_features, numeric_labels, test_size=0.2, random_state=42)  #20%\n",
        "\n",
        "\n",
        "# Combine the text and image features into a single tensor\n",
        "train_features = np.hstack((train_text.numpy(), train_image.numpy()))\n",
        "test_features = np.hstack((test_text.numpy(), test_image.numpy()))\n",
        "train_labels = train_labels.numpy()\n",
        "test_labels = test_labels.numpy()\n",
        "\n"
      ]
    },
    {
      "cell_type": "markdown",
      "source": [
        "## **Train the models**\n",
        "- Decision Tree Classifier\n",
        "- Logistic Regression\n",
        "- Multilayer Perceptron\n",
        "- Adaptive Boosting\n",
        "- Support Vector Machine\n"
      ],
      "metadata": {
        "id": "PYXsPzoOyt6c"
      }
    },
    {
      "cell_type": "markdown",
      "source": [
        "Implemention of K-Fold cross-validator.\n",
        "[K-Fold](https://scikit-learn.org/stable/modules/generated/sklearn.model_selection.KFold.html)\n"
      ],
      "metadata": {
        "id": "_ek3HENyV2AV"
      }
    },
    {
      "cell_type": "code",
      "source": [
        "# split dhe data with Kfold method and train all 5 models\n",
        "kf = KFold(n_splits=5, shuffle=True, random_state=42)\n",
        "tree_models = []\n",
        "adaboost_models = []\n",
        "svm_models = []\n",
        "logreg_models = []\n",
        "mlp_models =[]\n",
        "\n",
        "for train_idx, val_idx in kf.split(train_features):\n",
        "    # split the data for K-Fold\n",
        "    X_train, X_val = train_features[train_idx], train_features[val_idx]\n",
        "    y_train, y_val = train_labels[train_idx], train_labels[val_idx]\n",
        "\n",
        "    # Decision Tree Classifier\n",
        "    tree = DecisionTreeClassifier(random_state=42)\n",
        "    tree.fit(X_train, y_train)\n",
        "    tree_models.append(tree)\n",
        "\n",
        "    # AdaBoost Classifier\n",
        "    adaboost = AdaBoostClassifier(random_state=42)\n",
        "    adaboost.fit(X_train, y_train)\n",
        "    adaboost_models.append(adaboost)\n",
        "\n",
        "     # SVM Classifier\n",
        "    svm = SVC(probability=True, random_state=42)  # probability=True für Voting='soft'\n",
        "    svm.fit(X_train, y_train)\n",
        "    svm_models.append(svm)\n",
        "\n",
        "   # Logistic Regression\n",
        "    logreg = LogisticRegression(max_iter=200, random_state=42)\n",
        "    logreg.fit(X_train, y_train)\n",
        "    logreg_models.append(logreg)\n",
        "\n",
        "  #MLP Classifier\n",
        "    mlp = MLPClassifier(hidden_layer_sizes=(100, 50), max_iter=200, activation='relu', solver='adam', random_state=42)\n",
        "    mlp.fit(X_train, y_train)\n",
        "    mlp_models.append(mlp)\n"
      ],
      "metadata": {
        "id": "P9XY-0EXWTDD",
        "colab": {
          "base_uri": "https://localhost:8080/"
        },
        "outputId": "1f34059a-48f3-407e-ce35-aa9d8d882662",
        "collapsed": true
      },
      "execution_count": 7,
      "outputs": [
        {
          "output_type": "stream",
          "name": "stderr",
          "text": [
            "/usr/local/lib/python3.10/dist-packages/sklearn/linear_model/_logistic.py:458: ConvergenceWarning: lbfgs failed to converge (status=1):\n",
            "STOP: TOTAL NO. of ITERATIONS REACHED LIMIT.\n",
            "\n",
            "Increase the number of iterations (max_iter) or scale the data as shown in:\n",
            "    https://scikit-learn.org/stable/modules/preprocessing.html\n",
            "Please also refer to the documentation for alternative solver options:\n",
            "    https://scikit-learn.org/stable/modules/linear_model.html#logistic-regression\n",
            "  n_iter_i = _check_optimize_result(\n",
            "/usr/local/lib/python3.10/dist-packages/sklearn/linear_model/_logistic.py:458: ConvergenceWarning: lbfgs failed to converge (status=1):\n",
            "STOP: TOTAL NO. of ITERATIONS REACHED LIMIT.\n",
            "\n",
            "Increase the number of iterations (max_iter) or scale the data as shown in:\n",
            "    https://scikit-learn.org/stable/modules/preprocessing.html\n",
            "Please also refer to the documentation for alternative solver options:\n",
            "    https://scikit-learn.org/stable/modules/linear_model.html#logistic-regression\n",
            "  n_iter_i = _check_optimize_result(\n",
            "/usr/local/lib/python3.10/dist-packages/sklearn/linear_model/_logistic.py:458: ConvergenceWarning: lbfgs failed to converge (status=1):\n",
            "STOP: TOTAL NO. of ITERATIONS REACHED LIMIT.\n",
            "\n",
            "Increase the number of iterations (max_iter) or scale the data as shown in:\n",
            "    https://scikit-learn.org/stable/modules/preprocessing.html\n",
            "Please also refer to the documentation for alternative solver options:\n",
            "    https://scikit-learn.org/stable/modules/linear_model.html#logistic-regression\n",
            "  n_iter_i = _check_optimize_result(\n",
            "/usr/local/lib/python3.10/dist-packages/sklearn/linear_model/_logistic.py:458: ConvergenceWarning: lbfgs failed to converge (status=1):\n",
            "STOP: TOTAL NO. of ITERATIONS REACHED LIMIT.\n",
            "\n",
            "Increase the number of iterations (max_iter) or scale the data as shown in:\n",
            "    https://scikit-learn.org/stable/modules/preprocessing.html\n",
            "Please also refer to the documentation for alternative solver options:\n",
            "    https://scikit-learn.org/stable/modules/linear_model.html#logistic-regression\n",
            "  n_iter_i = _check_optimize_result(\n",
            "/usr/local/lib/python3.10/dist-packages/sklearn/linear_model/_logistic.py:458: ConvergenceWarning: lbfgs failed to converge (status=1):\n",
            "STOP: TOTAL NO. of ITERATIONS REACHED LIMIT.\n",
            "\n",
            "Increase the number of iterations (max_iter) or scale the data as shown in:\n",
            "    https://scikit-learn.org/stable/modules/preprocessing.html\n",
            "Please also refer to the documentation for alternative solver options:\n",
            "    https://scikit-learn.org/stable/modules/linear_model.html#logistic-regression\n",
            "  n_iter_i = _check_optimize_result(\n"
          ]
        }
      ]
    },
    {
      "cell_type": "markdown",
      "source": [
        "### Performance of Decision Tree Classifier\n"
      ],
      "metadata": {
        "id": "YG-fI_jX0BYP"
      }
    },
    {
      "cell_type": "code",
      "source": [
        "predictions =  tree.predict(test_features)\n",
        "accuracy = accuracy_score(test_labels, predictions)\n",
        "f1 = f1_score(test_labels, predictions, average='macro')\n",
        "\n",
        "print(\"Test Accuracy:\", accuracy)\n",
        "print(\"Test F1 Score:\", f1)\n"
      ],
      "metadata": {
        "colab": {
          "base_uri": "https://localhost:8080/"
        },
        "id": "jZhsN5vLBsLh",
        "outputId": "03b181d5-b942-4b95-c7f9-599fc454f8ea"
      },
      "execution_count": 10,
      "outputs": [
        {
          "output_type": "stream",
          "name": "stdout",
          "text": [
            "Test Accuracy: 0.7445255474452555\n",
            "Test F1 Score: 0.4892249297278026\n"
          ]
        }
      ]
    },
    {
      "cell_type": "markdown",
      "source": [
        "### Performance of MLP Classifier"
      ],
      "metadata": {
        "id": "wxA0Rz850UwX"
      }
    },
    {
      "cell_type": "code",
      "source": [
        "predictions =  mlp.predict(test_features)\n",
        "accuracy = accuracy_score(test_labels, predictions)\n",
        "f1 = f1_score(test_labels, predictions, average='macro')\n",
        "\n",
        "print(\"Test Accuracy:\", accuracy)\n",
        "print(\"Test F1 Score:\", f1)\n"
      ],
      "metadata": {
        "colab": {
          "base_uri": "https://localhost:8080/"
        },
        "outputId": "fd55a1ff-1e48-4898-ba25-0b76c26d21c3",
        "id": "fAQyZSXj0S1v"
      },
      "execution_count": 11,
      "outputs": [
        {
          "output_type": "stream",
          "name": "stdout",
          "text": [
            "Test Accuracy: 0.8112617309697602\n",
            "Test F1 Score: 0.5014175128179351\n"
          ]
        }
      ]
    },
    {
      "cell_type": "markdown",
      "source": [
        "### Performance of  AdaBoost"
      ],
      "metadata": {
        "id": "UG44bFHZ0uq6"
      }
    },
    {
      "cell_type": "code",
      "source": [
        "predictions =  adaboost.predict(test_features)\n",
        "accuracy = accuracy_score(test_labels, predictions)\n",
        "f1 = f1_score(test_labels, predictions, average='macro')\n",
        "\n",
        "print(\"Test Accuracy:\", accuracy)\n",
        "print(\"Test F1 Score:\", f1)\n",
        "\n"
      ],
      "metadata": {
        "colab": {
          "base_uri": "https://localhost:8080/"
        },
        "id": "_zUa9jdqYMU4",
        "outputId": "5b70e438-a698-4d9b-8b54-cf22501fcbc3"
      },
      "execution_count": 12,
      "outputs": [
        {
          "output_type": "stream",
          "name": "stdout",
          "text": [
            "Test Accuracy: 0.8738269030239834\n",
            "Test F1 Score: 0.49718997664452447\n"
          ]
        }
      ]
    },
    {
      "cell_type": "markdown",
      "source": [
        "### Performance of SVM"
      ],
      "metadata": {
        "id": "sigslcQf1EL4"
      }
    },
    {
      "cell_type": "code",
      "source": [
        "predictions =  svm.predict(test_features)\n",
        "accuracy = accuracy_score(test_labels, predictions)\n",
        "f1 = f1_score(test_labels, predictions, average='macro')\n",
        "\n",
        "print(\"Test Accuracy:\", accuracy)\n",
        "print(\"Test F1 Score:\", f1)"
      ],
      "metadata": {
        "colab": {
          "base_uri": "https://localhost:8080/"
        },
        "id": "uCDx6-p20sMX",
        "outputId": "2017ddf2-7ae6-4c60-fb6d-a3ce75ee5bdc"
      },
      "execution_count": 13,
      "outputs": [
        {
          "output_type": "stream",
          "name": "stdout",
          "text": [
            "Test Accuracy: 0.8873826903023984\n",
            "Test F1 Score: 0.47016574585635357\n"
          ]
        }
      ]
    },
    {
      "cell_type": "markdown",
      "source": [
        "### Performance of Logistic Regression"
      ],
      "metadata": {
        "id": "V0L2tPD12h6-"
      }
    },
    {
      "cell_type": "code",
      "source": [
        "predictions =  logreg.predict(test_features)\n",
        "accuracy = accuracy_score(test_labels, predictions)\n",
        "f1 = f1_score(test_labels, predictions, average='macro')\n",
        "\n",
        "print(\"Test Accuracy:\", accuracy)\n",
        "print(\"Test F1 Score:\", f1)"
      ],
      "metadata": {
        "colab": {
          "base_uri": "https://localhost:8080/"
        },
        "id": "6hofAF0R2Liu",
        "outputId": "94cc6e5d-dfc5-46b7-8ea0-85e9a19aade1"
      },
      "execution_count": 14,
      "outputs": [
        {
          "output_type": "stream",
          "name": "stdout",
          "text": [
            "Test Accuracy: 0.8477580813347236\n",
            "Test F1 Score: 0.4964974108170311\n"
          ]
        }
      ]
    },
    {
      "cell_type": "markdown",
      "source": [
        "## Voting Method"
      ],
      "metadata": {
        "id": "DRshL1Pw2x5o"
      }
    },
    {
      "cell_type": "code",
      "source": [
        "# Voting Classifier initialisieren\n",
        "\n",
        "#[('adaboost' + str(i), adaboost) for i, adaboost in enumerate(adaboost_models)]\n",
        "#    [('svm' + str(i), svm) for i, svm in enumerate(svm_models)] +\n",
        "   # [('logreg' + str(i), logreg)for i,logreg in enumerate(logreg_models)]+\n",
        "voting_clf = VotingClassifier(\n",
        "    estimators=[('tree' + str(i), tree) for i, tree in enumerate(tree_models)] +\n",
        "    [('adaboost' + str(i), adaboost) for i, adaboost in enumerate(adaboost_models)] +\n",
        "    [('logreg' + str(i), logreg)for i,logreg in enumerate(logreg_models)]+\n",
        "    [('svm' + str(i), svm) for i, svm in enumerate(svm_models)] +\n",
        "\n",
        "    [('mlp' + str(i), mlp)for i,mlp in enumerate(mlp_models)],\n",
        "  # voting='soft' #acc: 0.53, f1 macro 0.30\n",
        "\n",
        "    voting='soft'\n",
        ")\n",
        "voting_clf.fit(train_features, train_labels)  # Notwendig, um das Schema der Classifiers abzugleichen\n",
        "\n",
        "# Testdaten bewerten\n",
        "predictions = voting_clf.predict(test_features)\n",
        "accuracy = accuracy_score(test_labels, predictions)\n",
        "f1 = f1_score(test_labels, predictions, average='macro')\n",
        "\n",
        "print(\"Test Accuracy:\", accuracy)\n",
        "print(\"Test F1 Score:\", f1)\n"
      ],
      "metadata": {
        "colab": {
          "base_uri": "https://localhost:8080/"
        },
        "id": "Zt5qFqHoWYub",
        "outputId": "8e124e1a-07bf-4fb0-c580-cff58a948fd1"
      },
      "execution_count": 15,
      "outputs": [
        {
          "output_type": "stream",
          "name": "stderr",
          "text": [
            "/usr/local/lib/python3.10/dist-packages/sklearn/linear_model/_logistic.py:458: ConvergenceWarning: lbfgs failed to converge (status=1):\n",
            "STOP: TOTAL NO. of ITERATIONS REACHED LIMIT.\n",
            "\n",
            "Increase the number of iterations (max_iter) or scale the data as shown in:\n",
            "    https://scikit-learn.org/stable/modules/preprocessing.html\n",
            "Please also refer to the documentation for alternative solver options:\n",
            "    https://scikit-learn.org/stable/modules/linear_model.html#logistic-regression\n",
            "  n_iter_i = _check_optimize_result(\n",
            "/usr/local/lib/python3.10/dist-packages/sklearn/linear_model/_logistic.py:458: ConvergenceWarning: lbfgs failed to converge (status=1):\n",
            "STOP: TOTAL NO. of ITERATIONS REACHED LIMIT.\n",
            "\n",
            "Increase the number of iterations (max_iter) or scale the data as shown in:\n",
            "    https://scikit-learn.org/stable/modules/preprocessing.html\n",
            "Please also refer to the documentation for alternative solver options:\n",
            "    https://scikit-learn.org/stable/modules/linear_model.html#logistic-regression\n",
            "  n_iter_i = _check_optimize_result(\n",
            "/usr/local/lib/python3.10/dist-packages/sklearn/linear_model/_logistic.py:458: ConvergenceWarning: lbfgs failed to converge (status=1):\n",
            "STOP: TOTAL NO. of ITERATIONS REACHED LIMIT.\n",
            "\n",
            "Increase the number of iterations (max_iter) or scale the data as shown in:\n",
            "    https://scikit-learn.org/stable/modules/preprocessing.html\n",
            "Please also refer to the documentation for alternative solver options:\n",
            "    https://scikit-learn.org/stable/modules/linear_model.html#logistic-regression\n",
            "  n_iter_i = _check_optimize_result(\n",
            "/usr/local/lib/python3.10/dist-packages/sklearn/linear_model/_logistic.py:458: ConvergenceWarning: lbfgs failed to converge (status=1):\n",
            "STOP: TOTAL NO. of ITERATIONS REACHED LIMIT.\n",
            "\n",
            "Increase the number of iterations (max_iter) or scale the data as shown in:\n",
            "    https://scikit-learn.org/stable/modules/preprocessing.html\n",
            "Please also refer to the documentation for alternative solver options:\n",
            "    https://scikit-learn.org/stable/modules/linear_model.html#logistic-regression\n",
            "  n_iter_i = _check_optimize_result(\n",
            "/usr/local/lib/python3.10/dist-packages/sklearn/linear_model/_logistic.py:458: ConvergenceWarning: lbfgs failed to converge (status=1):\n",
            "STOP: TOTAL NO. of ITERATIONS REACHED LIMIT.\n",
            "\n",
            "Increase the number of iterations (max_iter) or scale the data as shown in:\n",
            "    https://scikit-learn.org/stable/modules/preprocessing.html\n",
            "Please also refer to the documentation for alternative solver options:\n",
            "    https://scikit-learn.org/stable/modules/linear_model.html#logistic-regression\n",
            "  n_iter_i = _check_optimize_result(\n"
          ]
        },
        {
          "output_type": "stream",
          "name": "stdout",
          "text": [
            "Test Accuracy: 0.872784150156413\n",
            "Test F1 Score: 0.4740622864746287\n"
          ]
        }
      ]
    },
    {
      "cell_type": "code",
      "source": [
        "\n",
        "print(\"Test Accuracy:\", accuracy)\n",
        "print(\"Test F1 Score:\", f1)"
      ],
      "metadata": {
        "colab": {
          "base_uri": "https://localhost:8080/"
        },
        "id": "FrjmkOle0lW_",
        "outputId": "7730b911-9716-4cd8-ba9f-0dbd85327978"
      },
      "execution_count": 17,
      "outputs": [
        {
          "output_type": "stream",
          "name": "stdout",
          "text": [
            "Test Accuracy: 0.872784150156413\n",
            "Test F1 Score: 0.4740622864746287\n"
          ]
        }
      ]
    },
    {
      "cell_type": "code",
      "source": [],
      "metadata": {
        "id": "ZJ0qK0lLmiPh"
      },
      "execution_count": null,
      "outputs": []
    }
  ]
}