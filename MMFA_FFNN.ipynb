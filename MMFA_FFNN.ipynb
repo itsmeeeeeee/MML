{
  "nbformat": 4,
  "nbformat_minor": 0,
  "metadata": {
    "colab": {
      "provenance": [],
      "authorship_tag": "ABX9TyPOPfS91AE4/54guSQkfgYE",
      "include_colab_link": true
    },
    "kernelspec": {
      "name": "python3",
      "display_name": "Python 3"
    },
    "language_info": {
      "name": "python"
    }
  },
  "cells": [
    {
      "cell_type": "markdown",
      "metadata": {
        "id": "view-in-github",
        "colab_type": "text"
      },
      "source": [
        "<a href=\"https://colab.research.google.com/github/itsmeeeeeee/MML/blob/main/MMFA_FFNN.ipynb\" target=\"_parent\"><img src=\"https://colab.research.google.com/assets/colab-badge.svg\" alt=\"Open In Colab\"/></a>"
      ]
    },
    {
      "cell_type": "markdown",
      "source": [
        "# Multimodal Fusion Model with Self-Attention (MMFA) and FFNN Classifier with Softmax"
      ],
      "metadata": {
        "id": "1ybBRRjBJ04c"
      }
    },
    {
      "cell_type": "code",
      "source": [
        "import os\n",
        "import numpy as np\n",
        "import pandas as pd\n",
        "import torch\n",
        "import torch.nn as nn\n",
        "import torch.optim as optim\n",
        "from torch.utils.data import DataLoader, TensorDataset\n",
        "from sklearn.model_selection import train_test_split\n",
        "from torchvision import models, transforms\n",
        "from PIL import Image, ImageFile\n",
        "\n",
        "\n",
        "import torch.nn.functional as F\n",
        "from torch.optim.lr_scheduler import ReduceLROnPlateau"
      ],
      "metadata": {
        "collapsed": true,
        "id": "zobtjzv5qiim"
      },
      "execution_count": 1,
      "outputs": []
    },
    {
      "cell_type": "code",
      "source": [
        "# Mount Google Drive\n",
        "from google.colab import drive\n",
        "drive.mount('/content/drive', force_remount=True)"
      ],
      "metadata": {
        "colab": {
          "base_uri": "https://localhost:8080/"
        },
        "id": "HtS-ZM1VKCrD",
        "outputId": "baf9b323-7e30-44e1-89d3-d3bdb22d4bc1"
      },
      "execution_count": 2,
      "outputs": [
        {
          "output_type": "stream",
          "name": "stdout",
          "text": [
            "Mounted at /content/drive\n"
          ]
        }
      ]
    },
    {
      "cell_type": "markdown",
      "source": [
        "### Text and image Feature are extracted with pretrained Modells BERT and RestNet-50"
      ],
      "metadata": {
        "id": "RGBkgrruKGrm"
      }
    },
    {
      "cell_type": "code",
      "source": [
        "import pandas as pd\n",
        "import numpy as np\n",
        "import torch\n",
        "\n",
        "# Load labels from CSV\n",
        "file_path_labels = \"/content/drive/MyDrive/MultimodalNLP/projekt/data/labels.csv\"\n",
        "labeled_data = pd.read_csv(file_path_labels)\n",
        "labels = labeled_data['overall_sentiment'].values\n",
        "\n",
        "# Define your existing mapping\n",
        "label_mapping = {\n",
        "    \"very_negative\": 0,\n",
        "    \"negative\": 0,\n",
        "    \"positive\": 1,\n",
        "    \"very_positive\": 1\n",
        "}\n",
        "\n",
        "# Get valid indices for labels that exist in the mapping\n",
        "valid_indices = [i for i, label in enumerate(labels) if label in label_mapping]\n",
        "filtered_labels = [labels[i] for i in valid_indices]\n",
        "\n",
        "# Apply the mapping to convert filtered text labels to numeric labels\n",
        "numeric_labels = np.array([label_mapping[label] for label in filtered_labels])\n",
        "\n",
        "# Convert labels to a torch tensor\n",
        "numeric_labels = torch.tensor(numeric_labels, dtype=torch.long)\n",
        "print(\"numeric labels:\", numeric_labels.shape)\n",
        "\n",
        "# Load image features\n",
        "file_path_im = \"/content/drive/MyDrive/MultimodalNLP/projekt/features_data/image_features_restnet.npy\"\n",
        "image_features = np.load(file_path_im)\n",
        "\n",
        "# Load text features\n",
        "file_path_emb = \"/content/drive/MyDrive/MultimodalNLP/projekt/features_data/text_features_bert.npy\"\n",
        "text_features = np.load(file_path_emb)\n",
        "\n",
        "# Filter image and text features using valid indices\n",
        "filtered_image_features = torch.tensor(image_features[valid_indices], dtype=torch.float32)\n",
        "filtered_text_features = torch.tensor(text_features[valid_indices], dtype=torch.float32)\n",
        "\n",
        "print(\"Filtered Image features:\", filtered_image_features.shape)\n",
        "print(\"Filtered Text features:\", filtered_text_features.shape)\n"
      ],
      "metadata": {
        "colab": {
          "base_uri": "https://localhost:8080/"
        },
        "id": "4_r0i9Tc2mTA",
        "outputId": "87eb1808-4109-4c3e-acb7-0a294b217674"
      },
      "execution_count": 5,
      "outputs": [
        {
          "output_type": "stream",
          "name": "stdout",
          "text": [
            "numeric labels: torch.Size([4791])\n",
            "Filtered Image features: torch.Size([4791, 1000])\n",
            "Filtered Text features: torch.Size([4791, 768])\n"
          ]
        }
      ]
    },
    {
      "cell_type": "code",
      "source": [
        "from sklearn.model_selection import train_test_split\n",
        "from torch.utils.data import DataLoader, TensorDataset\n",
        "\n",
        "# Assuming that 'filtered_text_features', 'filtered_image_features', and 'numeric_labels' are correctly defined as per previous discussions\n",
        "\n",
        "\"\"\"\n",
        "Split the initial dataset into training and preliminary testing sets.\n",
        "20% of the data is reserved for preliminary testing, and 80% is used for training.\n",
        "\"\"\"\n",
        "train_text, prelim_test_text, train_image, prelim_test_image, train_labels, prelim_test_labels = train_test_split(\n",
        "    filtered_text_features, filtered_image_features, numeric_labels, test_size=0.2, random_state=42\n",
        ")\n",
        "\n",
        "\"\"\"\n",
        "Further split the preliminary testing data into validation and final test sets.\n",
        "40% of the preliminary test data is used for validation and 60% for the final testing.\n",
        "\"\"\"\n",
        "val_text, test_text, val_image, test_image, val_labels, test_labels = train_test_split(\n",
        "    prelim_test_text, prelim_test_image, prelim_test_labels, test_size=0.6, random_state=42\n",
        ")"
      ],
      "metadata": {
        "id": "aIgL79qHN0Yh"
      },
      "execution_count": 6,
      "outputs": []
    },
    {
      "cell_type": "code",
      "source": [
        "\n",
        "# Creating DataLoaders for training, validation, and test datasets\n",
        "train_dataset = TensorDataset(train_text, train_image, train_labels)\n",
        "train_loader = DataLoader(train_dataset, batch_size=128, shuffle=True)\n",
        "\n",
        "val_dataset = TensorDataset(val_text, val_image, val_labels)\n",
        "val_loader = DataLoader(val_dataset, batch_size=128, shuffle=False)\n",
        "\n",
        "test_dataset = TensorDataset(test_text, test_image, test_labels)\n",
        "test_loader = DataLoader(test_dataset, batch_size=128, shuffle=False)"
      ],
      "metadata": {
        "id": "oHDO1j7wjqF-"
      },
      "execution_count": 7,
      "outputs": []
    },
    {
      "cell_type": "code",
      "source": [
        "\"\"\"\n",
        "Implementing a self-attention module based on the concept explained in:\n",
        "https://medium.com/@wangdk93/implement-self-attention-and-cross-attention-in-pytorch-1f1a366c9d4b#d075\n",
        "\n",
        "\"\"\"\n",
        "class SelfAttention(nn.Module):\n",
        "    def __init__(self, feature_dim, dropout=0.1):\n",
        "        super(SelfAttention, self).__init__()\n",
        "\n",
        "        # Scaling factor to normalize the dot products\n",
        "        self.scale = 1.0 / (feature_dim ** 0.5)\n",
        "\n",
        "       # Linear transformations for the query, key, and value vectors\n",
        "        self.query = nn.Linear(feature_dim, feature_dim)\n",
        "        self.key = nn.Linear(feature_dim, feature_dim)\n",
        "        self.value = nn.Linear(feature_dim, feature_dim)\n",
        "        #dropout\n",
        "        #self.dropout = nn.Dropout(dropout)\n",
        "\n",
        "    def forward(self, x):\n",
        "        # Generate query, key, value tensors\n",
        "        queries = self.query(x.unsqueeze(1))\n",
        "        keys = self.key(x.unsqueeze(1))\n",
        "        values = self.value(x.unsqueeze(1))\n",
        "\n",
        "        # Calculate the attention scores and apply softmax\n",
        "        scores = torch.bmm(queries, keys.transpose(1, 2)) * self.scale\n",
        "        attention_weights = F.softmax(scores, dim=-1)\n",
        "        # dropout\n",
        "        #attention_weights = self.dropout(attention_weights)\n",
        "\n",
        "        # Multiply the attention weights by the values\n",
        "        weighted = torch.bmm(attention_weights, values)\n",
        "        return weighted.squeeze(1)"
      ],
      "metadata": {
        "id": "XBbwYsqb8Zlp"
      },
      "execution_count": 8,
      "outputs": []
    },
    {
      "cell_type": "code",
      "source": [
        "import torch\n",
        "import torch.nn as nn\n",
        "import torch.nn.functional as F\n",
        "\n",
        "class MultimodalFusionClassifier(nn.Module):\n",
        "    def __init__(self, text_dim, image_dim, hidden_dim, num_classes):\n",
        "        super(MultimodalFusionClassifier, self).__init__()\n",
        "        self.text_model = nn.Linear(text_dim, hidden_dim)\n",
        "        self.image_model = nn.Linear(image_dim, hidden_dim)\n",
        "        self.fc = nn.Linear(hidden_dim * 2, num_classes)  # Output dimension to match number of classes\n",
        "\n",
        "    def forward(self, text_features, image_features):\n",
        "        # Process text and image features through their respective models\n",
        "        text_features = self.text_model(text_features)\n",
        "        image_features = self.image_model(image_features)\n",
        "\n",
        "        # Combine features\n",
        "        combined_features = torch.cat([text_features, image_features], dim=1)\n",
        "        outputs = self.fc(combined_features)\n",
        "\n",
        "        # Apply softmax to convert to probability distribution\n",
        "        # Note: Softmax is usually included in the loss function (e.g., CrossEntropyLoss during training)\n",
        "        return outputs\n",
        "\n"
      ],
      "metadata": {
        "id": "TP1zf3Abtf4G"
      },
      "execution_count": 9,
      "outputs": []
    },
    {
      "cell_type": "code",
      "source": [
        "\n",
        "model = MultimodalFusionClassifier(text_dim=768, image_dim=1000, hidden_dim=128, num_classes=2)\n",
        "optimizer = torch.optim.Adam(model.parameters(), lr=0.001)\n",
        "\n",
        "criterion = torch.nn.CrossEntropyLoss() #softmax\n",
        "\n",
        "\n",
        "scheduler = ReduceLROnPlateau(optimizer, mode='min', factor=0.1)\n"
      ],
      "metadata": {
        "id": "fsY5GEOIsYSB"
      },
      "execution_count": 10,
      "outputs": []
    },
    {
      "cell_type": "code",
      "source": [
        "\"\"\"\n",
        "Training and validation loop for a Multimodal Fusion Classifier.\n",
        "The code for the loop structure is adapted from Sebastian Raschka's guide on training loops in PyTorch:\n",
        "https://sebastianraschka.com/faq/docs/training-loop-in-pytorch.html\n",
        "\n",
        "Early stopping implementation inspired by: https://keras.io/api/callbacks/early_stopping/\n",
        "\"\"\"\n",
        "\n",
        "import torch\n",
        "import numpy as np\n",
        "\n",
        "def train_model(model, train_loader, val_loader, epochs, optimizer, criterion, scheduler, patience=10):\n",
        "    trigger_times = 0  # Counter for the number of times validation loss has not improved\n",
        "    best_val_loss = float('inf')  # Initialize the best validation loss\n",
        "    best_model_state = None  # To store the best model state\n",
        "\n",
        "    for epoch in range(epochs):\n",
        "        model.train()  # Set the model to training mode\n",
        "        total_train_loss = 0\n",
        "        for texts, images, labels in train_loader:\n",
        "            optimizer.zero_grad()  # Reset gradients to zero for a new optimization step\n",
        "            outputs = model(texts, images)\n",
        "            loss = criterion(outputs, labels)  # Compute loss\n",
        "            loss.backward()\n",
        "            optimizer.step()\n",
        "            total_train_loss += loss.item()  # Accumulate loss over the epoch\n",
        "\n",
        "        model.eval()  # Set the model to evaluation mode\n",
        "        total_val_loss = 0\n",
        "        with torch.no_grad():\n",
        "            for texts, images, labels in val_loader:\n",
        "                outputs = model(texts, images)\n",
        "                loss = criterion(outputs, labels)\n",
        "                total_val_loss += loss.item()\n",
        "\n",
        "        average_train_loss = total_train_loss / len(train_loader)\n",
        "        average_val_loss = total_val_loss / len(val_loader)\n",
        "        print(f'Epoch {epoch+1}: Training Loss: {average_train_loss:.4f} | Validation Loss: {average_val_loss:.4f}')\n",
        "\n",
        "        scheduler.step(average_val_loss)\n",
        "\n",
        "        # Update the trigger counter and check for early stopping\n",
        "        if average_val_loss < best_val_loss:\n",
        "            best_val_loss = average_val_loss\n",
        "            best_model_state = model.state_dict()  # Save the best model state\n",
        "            trigger_times = 0  # Reset the trigger times since we found a new best\n",
        "        else:\n",
        "            trigger_times += 1  # Increment the trigger times\n",
        "            if trigger_times >= patience:\n",
        "                print('Early stopping triggered!')\n",
        "                break\n",
        "\n",
        "    # Load the best model state back into the model\n",
        "    if best_model_state:\n",
        "        model.load_state_dict(best_model_state)\n",
        "    return model\n",
        "\n",
        "\n",
        "#best_model_lstm=train_model(model, train_loader, val_loader, 50, optimizer, criterion, scheduler, patience=10)\n",
        "best_model_ffnn=train_model(model, train_loader, val_loader, 50, optimizer, criterion, scheduler, patience=10)\n",
        "\n"
      ],
      "metadata": {
        "colab": {
          "base_uri": "https://localhost:8080/"
        },
        "id": "ncnVaRWQhm4F",
        "outputId": "bb612d62-0ca1-40e6-a5aa-12c6ba32b541"
      },
      "execution_count": 11,
      "outputs": [
        {
          "output_type": "stream",
          "name": "stdout",
          "text": [
            "Epoch 1: Training Loss: 0.7996 | Validation Loss: 0.4064\n",
            "Epoch 2: Training Loss: 0.4072 | Validation Loss: 0.3882\n",
            "Epoch 3: Training Loss: 0.3971 | Validation Loss: 0.3955\n",
            "Epoch 4: Training Loss: 0.3897 | Validation Loss: 0.3993\n",
            "Epoch 5: Training Loss: 0.3866 | Validation Loss: 0.4087\n",
            "Epoch 6: Training Loss: 0.3922 | Validation Loss: 0.4077\n",
            "Epoch 7: Training Loss: 0.3865 | Validation Loss: 0.4008\n",
            "Epoch 8: Training Loss: 0.3818 | Validation Loss: 0.4110\n",
            "Epoch 9: Training Loss: 0.3862 | Validation Loss: 0.3989\n",
            "Epoch 10: Training Loss: 0.3792 | Validation Loss: 0.4026\n",
            "Epoch 11: Training Loss: 0.3854 | Validation Loss: 0.3962\n",
            "Epoch 12: Training Loss: 0.3789 | Validation Loss: 0.4033\n",
            "Early stopping triggered!\n"
          ]
        }
      ]
    },
    {
      "cell_type": "code",
      "source": [
        "\"\"\"\n",
        "Code is based on guidance from:\n",
        "- https://machinelearningmodels.org/evaluating-the-accuracy-score-of-your-machine-learning-model/\n",
        "- https://scikit-learn.org/stable/modules/model_evaluation.html#\n",
        "\n",
        "\"\"\"\n",
        "\n",
        "import torch\n",
        "import numpy as np\n",
        "from sklearn.metrics import accuracy_score, precision_score, recall_score, f1_score, confusion_matrix\n",
        "import matplotlib.pyplot as plt\n",
        "import seaborn as sns\n",
        "\n",
        "def evaluate_model(model, loader):\n",
        "    model.eval()\n",
        "    all_outputs = []\n",
        "    all_predictions = []\n",
        "    all_labels = []\n",
        "\n",
        "    with torch.no_grad():  # Deaktiviere die Gradientenberechnung\n",
        "        for texts, images, labels in loader:\n",
        "            outputs = model(texts, images)\n",
        "            _, predicted = torch.max(outputs.data, 1)\n",
        "            all_outputs.append(outputs.cpu().numpy())\n",
        "            all_predictions.extend(predicted.tolist())\n",
        "            all_labels.extend(labels.tolist())\n",
        "\n",
        "    # Berechne Metriken mit 'macro' Durchschnitt\n",
        "    test_accuracy = accuracy_score(all_labels, all_predictions)\n",
        "    test_precision = precision_score(all_labels, all_predictions, average='macro')\n",
        "    test_recall = recall_score(all_labels, all_predictions, average='macro')\n",
        "    test_f1 = f1_score(all_labels, all_predictions, average='macro')\n",
        "    test_conf_matrix = confusion_matrix(all_labels, all_predictions)\n",
        "\n",
        "    print(\"Test Accuracy:\", test_accuracy)\n",
        "    print(\"Precision (Macro):\", test_precision)\n",
        "    print(\"Recall (Macro):\", test_recall)\n",
        "    print(\"F1 Score (Macro):\", test_f1)\n",
        "    return test_accuracy, test_precision, test_recall, test_f1, test_conf_matrix\n",
        "\n",
        "# Annahme: Model und Test-Loader sind anderswo definiert\n",
        "test_accuracy, test_precision, test_recall, test_f1, test_conf_matrix = evaluate_model(best_model_ffnn, test_loader)\n"
      ],
      "metadata": {
        "colab": {
          "base_uri": "https://localhost:8080/"
        },
        "id": "iME-upK_3H5c",
        "outputId": "082b55f5-bf9f-442a-d3c9-936a75b97dbc"
      },
      "execution_count": 12,
      "outputs": [
        {
          "output_type": "stream",
          "name": "stdout",
          "text": [
            "Test Accuracy: 0.8993055555555556\n",
            "Precision (Macro): 0.4496527777777778\n",
            "Recall (Macro): 0.5\n",
            "F1 Score (Macro): 0.473491773308958\n"
          ]
        },
        {
          "output_type": "stream",
          "name": "stderr",
          "text": [
            "/usr/local/lib/python3.10/dist-packages/sklearn/metrics/_classification.py:1344: UndefinedMetricWarning: Precision is ill-defined and being set to 0.0 in labels with no predicted samples. Use `zero_division` parameter to control this behavior.\n",
            "  _warn_prf(average, modifier, msg_start, len(result))\n"
          ]
        }
      ]
    },
    {
      "cell_type": "code",
      "source": [
        "plt.figure(figsize=(6, 4))\n",
        "sns.heatmap(test_conf_matrix, annot=True, fmt='d', cmap='Blues', xticklabels=True, yticklabels=True)\n",
        "plt.xlabel('Predicted Labels')\n",
        "plt.ylabel('True Labels')\n",
        "plt.title('Confusion Matrix')\n",
        "plt.show()"
      ],
      "metadata": {
        "colab": {
          "base_uri": "https://localhost:8080/",
          "height": 410
        },
        "id": "aMDBuoPhQeOv",
        "outputId": "70c1a598-14f0-4f92-8554-a3db716bf15e"
      },
      "execution_count": 13,
      "outputs": [
        {
          "output_type": "display_data",
          "data": {
            "text/plain": [
              "<Figure size 600x400 with 2 Axes>"
            ],
            "image/png": "[encoded data removed]"
          },
          "metadata": {}
        }
      ]
    },
    {
      "cell_type": "code",
      "source": [],
      "metadata": {
        "id": "BLNRfevdjket"
      },
      "execution_count": null,
      "outputs": []
    }
  ]
}