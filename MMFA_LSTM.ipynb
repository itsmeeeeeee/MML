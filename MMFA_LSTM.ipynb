{
  "nbformat": 4,
  "nbformat_minor": 0,
  "metadata": {
    "colab": {
      "provenance": [],
      "include_colab_link": true
    },
    "kernelspec": {
      "name": "python3",
      "display_name": "Python 3"
    },
    "language_info": {
      "name": "python"
    }
  },
  "cells": [
    {
      "cell_type": "markdown",
      "metadata": {
        "id": "view-in-github",
        "colab_type": "text"
      },
      "source": [
        "<a href=\"https://colab.research.google.com/github/itsmeeeeeee/MML/blob/main/MMFA_LSTM.ipynb\" target=\"_parent\"><img src=\"https://colab.research.google.com/assets/colab-badge.svg\" alt=\"Open In Colab\"/></a>"
      ]
    },
    {
      "cell_type": "markdown",
      "source": [
        "\n",
        "\n",
        "## **Multimodal Fusion Model with Self-Attention (MMFA) and LSTM Classifier**"
      ],
      "metadata": {
        "id": "NbNKCkegDy6O"
      }
    },
    {
      "cell_type": "code",
      "source": [
        "# Import necessary libraries\n",
        "\n",
        "import torch\n",
        "import torch.nn as nn\n",
        "import torch.nn.functional as F\n",
        "from torch.optim.lr_scheduler import ReduceLROnPlateau\n",
        "from sklearn.model_selection import train_test_split\n",
        "\n",
        "from torchvision import models, transforms\n",
        "import numpy as np\n",
        "import pandas as pd\n",
        "import torch.nn as nn\n",
        "import torch.optim as optim\n"
      ],
      "metadata": {
        "id": "AQYwsMC1aP-E"
      },
      "execution_count": null,
      "outputs": []
    },
    {
      "cell_type": "code",
      "source": [
        "#Mount Google Drive\n",
        "from google.colab import drive\n",
        "drive.mount('/content/drive', force_remount=True)"
      ],
      "metadata": {
        "colab": {
          "base_uri": "https://localhost:8080/"
        },
        "id": "OhuU0bog5CxN",
        "outputId": "e026291b-fe32-4e32-8285-6d7fdb242b40"
      },
      "execution_count": null,
      "outputs": [
        {
          "output_type": "stream",
          "name": "stdout",
          "text": [
            "Mounted at /content/drive\n"
          ]
        }
      ]
    },
    {
      "cell_type": "markdown",
      "source": [
        "Text and image Feature are extracted with pretrained Modells BERT and RestNet-50"
      ],
      "metadata": {
        "id": "1vha_mSbJplr"
      }
    },
    {
      "cell_type": "markdown",
      "source": [
        "**Read the data**"
      ],
      "metadata": {
        "id": "t6Ba7Vpc_C2m"
      }
    },
    {
      "cell_type": "code",
      "source": [
        "import pandas as pd\n",
        "import numpy as np\n",
        "import torch\n",
        "\n",
        "# Load labels from CSV\n",
        "file_path_labels = \"/content/drive/MyDrive/MultimodalNLP/projekt/data/labels.csv\"\n",
        "labeled_data = pd.read_csv(file_path_labels)\n",
        "labels = labeled_data['overall_sentiment'].values\n",
        "\n",
        "# Define your existing mapping\n",
        "label_mapping = {\n",
        "    \"very_negative\": 0,\n",
        "    \"negative\": 0,\n",
        "    \"positive\": 1,\n",
        "    \"very_positive\": 1\n",
        "}\n",
        "\n",
        "# Get valid indices for labels that exist in the mapping\n",
        "valid_indices = [i for i, label in enumerate(labels) if label in label_mapping]\n",
        "filtered_labels = [labels[i] for i in valid_indices]\n",
        "\n",
        "# Apply the mapping to convert filtered text labels to numeric labels\n",
        "numeric_labels = np.array([label_mapping[label] for label in filtered_labels])\n",
        "\n",
        "# Convert labels to a torch tensor\n",
        "numeric_labels = torch.tensor(numeric_labels, dtype=torch.long)\n",
        "print(\"numeric labels:\", numeric_labels.shape)\n",
        "\n",
        "# Load image features\n",
        "file_path_im = \"/content/drive/MyDrive/MultimodalNLP/projekt/features_data/image_features_restnet.npy\"\n",
        "image_features = np.load(file_path_im)\n",
        "\n",
        "# Load text features\n",
        "file_path_emb = \"/content/drive/MyDrive/MultimodalNLP/projekt/features_data/text_features_bert.npy\"\n",
        "text_features = np.load(file_path_emb)\n",
        "\n",
        "# Filter image and text features using valid indices\n",
        "filtered_image_features = torch.tensor(image_features[valid_indices], dtype=torch.float32)\n",
        "filtered_text_features = torch.tensor(text_features[valid_indices], dtype=torch.float32)\n",
        "\n",
        "print(\"Filtered Image features:\", filtered_image_features.shape)\n",
        "print(\"Filtered Text features:\", filtered_text_features.shape)\n"
      ],
      "metadata": {
        "colab": {
          "base_uri": "https://localhost:8080/"
        },
        "id": "4_r0i9Tc2mTA",
        "outputId": "60cd97b5-e3a0-4ded-87e1-2cbac8d6da17"
      },
      "execution_count": null,
      "outputs": [
        {
          "output_type": "stream",
          "name": "stdout",
          "text": [
            "numeric labels: torch.Size([4791])\n",
            "Filtered Image features: torch.Size([4791, 1000])\n",
            "Filtered Text features: torch.Size([4791, 768])\n"
          ]
        }
      ]
    },
    {
      "cell_type": "code",
      "source": [
        "#print(text_features[1])\n",
        "#print(image_features[1])"
      ],
      "metadata": {
        "id": "5dL96-61esQx",
        "collapsed": true
      },
      "execution_count": null,
      "outputs": []
    },
    {
      "cell_type": "markdown",
      "source": [
        "**Split the data**"
      ],
      "metadata": {
        "id": "5KVnrknITZdT"
      }
    },
    {
      "cell_type": "code",
      "source": [
        "from torch.utils.data import DataLoader, TensorDataset\n"
      ],
      "metadata": {
        "id": "DQeLJ7d1fX-j"
      },
      "execution_count": null,
      "outputs": []
    },
    {
      "cell_type": "code",
      "source": [
        "from sklearn.model_selection import train_test_split\n",
        "from torch.utils.data import DataLoader, TensorDataset\n",
        "\n",
        "# Assuming that 'filtered_text_features', 'filtered_image_features', and 'numeric_labels' are correctly defined as per previous discussions\n",
        "\n",
        "\"\"\"\n",
        "Split the initial dataset into training and preliminary testing sets.\n",
        "20% of the data is reserved for preliminary testing, and 80% is used for training.\n",
        "\"\"\"\n",
        "train_text, prelim_test_text, train_image, prelim_test_image, train_labels, prelim_test_labels = train_test_split(\n",
        "    filtered_text_features, filtered_image_features, numeric_labels, test_size=0.2, random_state=42\n",
        ")\n",
        "\n",
        "\"\"\"\n",
        "Further split the preliminary testing data into validation and final test sets.\n",
        "40% of the preliminary test data is used for validation and 60% for the final testing.\n",
        "\"\"\"\n",
        "val_text, test_text, val_image, test_image, val_labels, test_labels = train_test_split(\n",
        "    prelim_test_text, prelim_test_image, prelim_test_labels, test_size=0.6, random_state=42\n",
        ")\n",
        "\n",
        "# Print to check the distribution of labels in the preliminary test set\n",
        "c_0 = 0\n",
        "c_1 = 0\n",
        "\n",
        "for el in prelim_test_labels:\n",
        "    if el == 1:\n",
        "        c_1 += 1\n",
        "    elif el == 0:\n",
        "        c_0 += 1\n",
        "\n",
        "print(\"positive: \", c_1)\n",
        "print(\"negative: \", c_0)\n",
        "\n"
      ],
      "metadata": {
        "colab": {
          "base_uri": "https://localhost:8080/"
        },
        "id": "E7TeYnMh3mrF",
        "outputId": "d6e8c148-97d9-4b55-8b45-e9fe1e2ad245"
      },
      "execution_count": null,
      "outputs": [
        {
          "output_type": "stream",
          "name": "stdout",
          "text": [
            "positive:  851\n",
            "negative:  108\n"
          ]
        }
      ]
    },
    {
      "cell_type": "markdown",
      "source": [
        "**Load the data**"
      ],
      "metadata": {
        "id": "R11hp5v_fVd8"
      }
    },
    {
      "cell_type": "code",
      "source": [
        "# Creating DataLoaders for training, validation, and test datasets\n",
        "train_dataset = TensorDataset(train_text, train_image, train_labels)\n",
        "train_loader = DataLoader(train_dataset, batch_size=128, shuffle=True)\n",
        "\n",
        "val_dataset = TensorDataset(val_text, val_image, val_labels)\n",
        "val_loader = DataLoader(val_dataset, batch_size=128, shuffle=False)\n",
        "\n",
        "test_dataset = TensorDataset(test_text, test_image, test_labels)\n",
        "test_loader = DataLoader(test_dataset, batch_size=128, shuffle=False)"
      ],
      "metadata": {
        "id": "ij1_53Of3ugK"
      },
      "execution_count": null,
      "outputs": []
    },
    {
      "cell_type": "markdown",
      "source": [
        "**Self-Attention Block**"
      ],
      "metadata": {
        "id": "pDyRZXttfEfy"
      }
    },
    {
      "cell_type": "code",
      "source": [
        "\"\"\"\n",
        "Implementing a self-attention module based on the concept explained in:\n",
        "https://medium.com/@wangdk93/implement-self-attention-and-cross-attention-in-pytorch-1f1a366c9d4b#d075\n",
        "\n",
        "\"\"\"\n",
        "\n",
        "class SelfAttention(nn.Module):\n",
        "    def __init__(self, feature_dim, dropout=0.1):\n",
        "        super(SelfAttention, self).__init__()\n",
        "\n",
        "        # Scaling factor to normalize the dot products\n",
        "        self.scale = 1.0 / (feature_dim ** 0.5)\n",
        "\n",
        "       # Linear transformations for the query, key, and value vectors\n",
        "        self.query = nn.Linear(feature_dim, feature_dim)\n",
        "        self.key = nn.Linear(feature_dim, feature_dim)\n",
        "        self.value = nn.Linear(feature_dim, feature_dim)\n",
        "        #dropout\n",
        "        #self.dropout = nn.Dropout(dropout)\n",
        "\n",
        "    def forward(self, x):\n",
        "        # Generate query, key, value tensors\n",
        "        queries = self.query(x.unsqueeze(1))\n",
        "        keys = self.key(x.unsqueeze(1))\n",
        "        values = self.value(x.unsqueeze(1))\n",
        "\n",
        "        # Calculate the attention scores and apply softmax\n",
        "        scores = torch.bmm(queries, keys.transpose(1, 2)) * self.scale\n",
        "        attention_weights = F.softmax(scores, dim=-1)\n",
        "        # dropout\n",
        "        #attention_weights = self.dropout(attention_weights)\n",
        "\n",
        "        # Multiply the attention weights by the values\n",
        "        weighted = torch.bmm(attention_weights, values)\n",
        "        return weighted.squeeze(1)\n"
      ],
      "metadata": {
        "id": "XBbwYsqb8Zlp"
      },
      "execution_count": null,
      "outputs": []
    },
    {
      "cell_type": "markdown",
      "source": [
        "**Bi-directional LSTM Classifier**"
      ],
      "metadata": {
        "id": "_a6mcnKC9pbb"
      }
    },
    {
      "cell_type": "code",
      "source": [
        "\"\"\"\n",
        "Code adapted from this blog: https://www.deeplearningwizard.com/deep_learning/practical_pytorch/pytorch_lstm_neuralnetwork/#steps\n",
        "\"\"\"\n",
        "\n",
        "class LSTMClassifier(nn.Module):\n",
        "    def __init__(self, input_dim, hidden_dim, num_layers, num_classes):\n",
        "        super(LSTMClassifier, self).__init__()\n",
        "        self.lstm = nn.LSTM(input_dim, hidden_dim, num_layers, batch_first=True, bidirectional=True)\n",
        "        self.fc = nn.Linear(hidden_dim * 2, num_classes)  # For bidirectional LSTM\n",
        "\n",
        "    def forward(self, x):\n",
        "        # Initialize hidden and cell states\n",
        "        # Dimensions: (num_layers * num_directions, batch_size, hidden_size)\n",
        "        batch_size = x.size(0)  # Get the current batch size\n",
        "        num_directions = 2 if self.lstm.bidirectional else 1\n",
        "        h0 = torch.zeros(self.lstm.num_layers * num_directions, batch_size, self.lstm.hidden_size).to(x.device)\n",
        "        c0 = torch.zeros(self.lstm.num_layers * num_directions, batch_size, self.lstm.hidden_size).to(x.device)\n",
        "\n",
        "        out, _ = self.lstm(x, (h0, c0))\n",
        "        out = self.fc(out[:, -1, :])  # Use the last timestep\n",
        "        return out\n"
      ],
      "metadata": {
        "id": "ycP3bdYr9Ovo"
      },
      "execution_count": null,
      "outputs": []
    },
    {
      "cell_type": "markdown",
      "source": [
        "**Multimodal Fusion Model**"
      ],
      "metadata": {
        "id": "vzleyoMFDnmS"
      }
    },
    {
      "cell_type": "code",
      "source": [
        "\"\"\"\n",
        "Multimodal Fusion Classifier incorporating self-attention for feature fusion.\n",
        "Adapted and inspired by a GitHub project on multimodal sentiment analysis:\n",
        "https://github.com/imadhou/multimodal-sentiment-analysis/blob/main/notebooks/multi_modal_model.ipynb\n",
        "\n",
        "\"\"\"\n",
        "\n",
        "class MultimodalFusionClassifier(nn.Module):\n",
        "    def __init__(self, text_dim, image_dim, hidden_dim, lstm_hidden_dim, num_classes):\n",
        "        super(MultimodalFusionClassifier, self).__init__()\n",
        "        self.text_model = nn.Linear(text_dim, hidden_dim)\n",
        "        self.image_model = nn.Linear(image_dim, hidden_dim)\n",
        "\n",
        "        # Self-attention module for refining text and image features by focusing on important elements.\n",
        "        self.text_attention = SelfAttention(hidden_dim)\n",
        "        self.image_attention = SelfAttention(hidden_dim)\n",
        "\n",
        "        # LSTM Classifier\n",
        "        #self.classifier = LSTMClassifier(hidden_dim, lstm_hidden_dim, num_layers=2, num_classes=num_classes)\n",
        "        self.classifier = LSTMClassifier(hidden_dim * 2, lstm_hidden_dim, num_layers=2, num_classes=num_classes)\n",
        "\n",
        "        #self.dropout = nn.Dropout(0.5)\n",
        "\n",
        "\n",
        "    def forward(self, text_features, image_features):\n",
        "        # Process text features and give attention\n",
        "        text_features = self.text_model(text_features)\n",
        "        text_features = self.text_attention(text_features)\n",
        "\n",
        "        # Process image features and give attention\n",
        "        image_features = self.image_model(image_features)\n",
        "        image_features = self.image_attention(image_features)\n",
        "\n",
        "        # Combine text and image features\n",
        "        combined_features = torch.cat([text_features, image_features], dim=1)\n",
        "        combined_features = combined_features.unsqueeze(1)\n",
        "\n",
        "        # Apply dropout\n",
        "        #combined_features = self.dropout(combined_features)\n",
        "\n",
        "        # Classification\n",
        "        #The combined features are passed through the LSTM classifier to produce the final output.\n",
        "        output = self.classifier(combined_features)\n",
        "        return output\n"
      ],
      "metadata": {
        "id": "U0VrcjPU-KgS"
      },
      "execution_count": null,
      "outputs": []
    },
    {
      "cell_type": "markdown",
      "source": [
        "**Initialize the model**"
      ],
      "metadata": {
        "id": "SorCGj1cHK9m"
      }
    },
    {
      "cell_type": "code",
      "source": [
        "\"\"\"\n",
        "initialize the model with specidied dimensions and number of classes\n",
        "text_dim=768: Dimension of text input features\n",
        "image_dim=1000: Dimension of image input features\n",
        "hidden_dim=128: Dimension of hidden layers used for processing and integrating features\n",
        "num_classes=3: Number of output classes for classification\n",
        "\"\"\"\n",
        "\n",
        "model = MultimodalFusionClassifier(text_dim=768, image_dim=1000, hidden_dim=128,  lstm_hidden_dim=256, num_classes=2)\n",
        "optimizer = torch.optim.Adam(model.parameters(), lr=0.001)\n",
        "\n",
        "# CrossEntropyLoss is used as the loss function for the classifier\n",
        "criterion = nn.CrossEntropyLoss()\n",
        "\n",
        "# ReduceLROnPlateau is used for reducing the learning rate when a metric has stopped improving.\n",
        "# Here, 'mode' is set to 'min', meaning the scheduler will reduce the learning rate when the monitored quantity stops decreasing.\n",
        "# The reduction factor is set to 0.1, reducing the learning rate to 10% of its current value when a plateau is reached.\n",
        "\n",
        "scheduler = ReduceLROnPlateau(optimizer, mode='min', factor=0.1)\n"
      ],
      "metadata": {
        "id": "UppFD7ozBCql"
      },
      "execution_count": null,
      "outputs": []
    },
    {
      "cell_type": "markdown",
      "source": [
        "**Train the model**"
      ],
      "metadata": {
        "id": "eRa8hiLEGjqS"
      }
    },
    {
      "cell_type": "code",
      "source": [
        "\"\"\"\n",
        "Training and validation loop for a Multimodal Fusion Classifier.\n",
        "The code for the loop structure is adapted from Sebastian Raschka's guide on training loops in PyTorch:\n",
        "https://sebastianraschka.com/faq/docs/training-loop-in-pytorch.html\n",
        "\n",
        "Early stopping implementation inspired by: https://keras.io/api/callbacks/early_stopping/\n",
        "\"\"\"\n",
        "\n",
        "import torch\n",
        "import numpy as np\n",
        "\n",
        "def train_model(model, train_loader, val_loader, epochs, optimizer, criterion, scheduler, patience=10):\n",
        "    trigger_times = 0  # Counter for the number of times validation loss has not improved\n",
        "    best_val_loss = float('inf')  # Initialize the best validation loss\n",
        "    best_model_state = None  # To store the best model state\n",
        "\n",
        "    for epoch in range(epochs):\n",
        "        model.train()  # Set the model to training mode\n",
        "        total_train_loss = 0\n",
        "        for texts, images, labels in train_loader:\n",
        "            optimizer.zero_grad()  # Reset gradients to zero for a new optimization step\n",
        "            outputs = model(texts, images)\n",
        "            loss = criterion(outputs, labels)  # Compute loss\n",
        "            loss.backward()\n",
        "            optimizer.step()\n",
        "            total_train_loss += loss.item()  # Accumulate loss over the epoch\n",
        "\n",
        "        model.eval()  # Set the model to evaluation mode\n",
        "        total_val_loss = 0\n",
        "        with torch.no_grad():\n",
        "            for texts, images, labels in val_loader:\n",
        "                outputs = model(texts, images)\n",
        "                loss = criterion(outputs, labels)\n",
        "                total_val_loss += loss.item()\n",
        "\n",
        "        average_train_loss = total_train_loss / len(train_loader)\n",
        "        average_val_loss = total_val_loss / len(val_loader)\n",
        "        print(f'Epoch {epoch+1}: Training Loss: {average_train_loss:.4f} | Validation Loss: {average_val_loss:.4f}')\n",
        "\n",
        "        #Potentially adjusts the learning rate based on the validation loss.\n",
        "        scheduler.step(average_val_loss)\n",
        "\n",
        "        # Update the trigger counter and check for early stopping\n",
        "        #If the validation loss improves, update the best loss and save the model's state.\n",
        "        if average_val_loss < best_val_loss:\n",
        "            best_val_loss = average_val_loss\n",
        "            best_model_state = model.state_dict()  # Save the best model state\n",
        "            trigger_times = 0  # Reset the trigger times since we found a new best\n",
        "        else:\n",
        "            trigger_times += 1  # Increment the trigger times\n",
        "            if trigger_times >= patience:\n",
        "                print('Early stopping triggered!')\n",
        "                break\n",
        "\n",
        "    # Load the best model state back into the model\n",
        "    if best_model_state:\n",
        "        model.load_state_dict(best_model_state)\n",
        "    return model\n",
        "\n",
        "# Example usage of the function\n",
        "best_model_lstm=train_model(model, train_loader, val_loader, 50, optimizer, criterion, scheduler, patience=10)\n"
      ],
      "metadata": {
        "colab": {
          "base_uri": "https://localhost:8080/"
        },
        "id": "ncnVaRWQhm4F",
        "outputId": "f8a11ec2-cbb2-4672-fdab-8489c13313bb"
      },
      "execution_count": null,
      "outputs": [
        {
          "output_type": "stream",
          "name": "stdout",
          "text": [
            "Epoch 1: Training Loss: 0.4208 | Validation Loss: 0.3880\n",
            "Epoch 2: Training Loss: 0.3987 | Validation Loss: 0.3894\n",
            "Epoch 3: Training Loss: 0.4017 | Validation Loss: 0.3944\n",
            "Epoch 4: Training Loss: 0.3994 | Validation Loss: 0.4001\n",
            "Epoch 5: Training Loss: 0.3994 | Validation Loss: 0.3918\n",
            "Epoch 6: Training Loss: 0.3961 | Validation Loss: 0.3950\n",
            "Epoch 7: Training Loss: 0.3965 | Validation Loss: 0.3914\n",
            "Epoch 8: Training Loss: 0.3950 | Validation Loss: 0.3951\n",
            "Epoch 9: Training Loss: 0.3905 | Validation Loss: 0.3942\n",
            "Epoch 10: Training Loss: 0.3860 | Validation Loss: 0.4031\n",
            "Epoch 11: Training Loss: 0.3853 | Validation Loss: 0.3880\n",
            "Epoch 12: Training Loss: 0.3825 | Validation Loss: 0.3966\n",
            "Epoch 13: Training Loss: 0.3827 | Validation Loss: 0.3988\n",
            "Epoch 14: Training Loss: 0.3881 | Validation Loss: 0.4003\n",
            "Epoch 15: Training Loss: 0.3755 | Validation Loss: 0.4064\n",
            "Epoch 16: Training Loss: 0.3790 | Validation Loss: 0.4081\n",
            "Epoch 17: Training Loss: 0.3718 | Validation Loss: 0.4154\n",
            "Epoch 18: Training Loss: 0.3682 | Validation Loss: 0.4065\n",
            "Epoch 19: Training Loss: 0.3651 | Validation Loss: 0.4217\n",
            "Epoch 20: Training Loss: 0.3637 | Validation Loss: 0.4000\n",
            "Epoch 21: Training Loss: 0.3754 | Validation Loss: 0.4150\n",
            "Early stopping triggered!\n"
          ]
        }
      ]
    },
    {
      "cell_type": "markdown",
      "source": [
        "## **Evaluation**"
      ],
      "metadata": {
        "id": "jAEZYamkGuEn"
      }
    },
    {
      "cell_type": "code",
      "source": [
        "from sklearn.metrics import accuracy_score, precision_score, recall_score, f1_score, confusion_matrix\n"
      ],
      "metadata": {
        "id": "O_2EIiHi5rIn"
      },
      "execution_count": null,
      "outputs": []
    },
    {
      "cell_type": "code",
      "source": [
        "def evaluate_model(model, loader):\n",
        "    model.eval()\n",
        "    all_outputs = []\n",
        "    all_predictions = []\n",
        "    all_labels = []\n",
        "\n",
        "    with torch.no_grad():\n",
        "        for texts, images, labels in loader:\n",
        "            outputs = model(texts, images)\n",
        "            _, predicted = torch.max(outputs.data, 1)\n",
        "            all_outputs.append(outputs.cpu().numpy())\n",
        "            all_predictions.extend(predicted.tolist())\n",
        "            all_labels.extend(labels.tolist())\n",
        "\n",
        "    # Calculate metrics using 'macro' average for binary classification\n",
        "    test_accuracy = accuracy_score(all_labels, all_predictions)\n",
        "    test_precision = precision_score(all_labels, all_predictions, average='macro')\n",
        "    test_recall = recall_score(all_labels, all_predictions, average='macro')\n",
        "    test_f1 = f1_score(all_labels, all_predictions, average='macro')\n",
        "    test_conf_matrix = confusion_matrix(all_labels, all_predictions)\n",
        "\n",
        "    print(\"Test Accuracy:\", test_accuracy)\n",
        "    print(\"Precision (Macro):\", test_precision)\n",
        "    print(\"Recall (Macro):\", test_recall)\n",
        "    print(\"F1 Score (Macro):\", test_f1)\n",
        "    return test_accuracy, test_precision, test_recall, test_f1, test_conf_matrix\n"
      ],
      "metadata": {
        "id": "-1T_WLMX5ETl"
      },
      "execution_count": null,
      "outputs": []
    },
    {
      "cell_type": "code",
      "source": [
        "test_accuracy, test_precision, test_recall, test_f1, test_conf_matrix = evaluate_model(model, test_loader)\n"
      ],
      "metadata": {
        "colab": {
          "base_uri": "https://localhost:8080/"
        },
        "id": "iDP99Dir5KCU",
        "outputId": "5ac830ee-3d2b-487e-afc2-79c340143efe"
      },
      "execution_count": null,
      "outputs": [
        {
          "output_type": "stream",
          "name": "stdout",
          "text": [
            "Test Accuracy: 0.890625\n",
            "Precision (Macro): 0.44921190893169877\n",
            "Recall (Macro): 0.4951737451737452\n",
            "F1 Score (Macro): 0.4710743801652893\n"
          ]
        }
      ]
    },
    {
      "cell_type": "markdown",
      "source": [
        "Confusion Matrix"
      ],
      "metadata": {
        "id": "E1yGizsTQxFD"
      }
    },
    {
      "cell_type": "code",
      "source": [
        "import matplotlib.pyplot as plt\n",
        "import seaborn as sns\n",
        "\n",
        "\n",
        "plt.figure(figsize=(6, 4))\n",
        "sns.heatmap(test_conf_matrix, annot=True, fmt='d', cmap='Blues', xticklabels=[\"Negative\", \"Positive\"], yticklabels=[\"Negative\", \"Positive\"])\n",
        "plt.xlabel('Predicted Labels')\n",
        "plt.ylabel('True Labels')\n",
        "plt.title('Confusion Matrix')\n",
        "plt.show()\n"
      ],
      "metadata": {
        "colab": {
          "base_uri": "https://localhost:8080/",
          "height": 410
        },
        "id": "i_QZCdeb40ct",
        "outputId": "2fa58801-02f7-4ef0-a722-8a228c157035"
      },
      "execution_count": null,
      "outputs": [
        {
          "output_type": "display_data",
          "data": {
            "text/plain": [
              "<Figure size 600x400 with 2 Axes>"
            ],
            "image/png": "[encoded data removed]"
          },
          "metadata": {}
        }
      ]
    }
  ]
}