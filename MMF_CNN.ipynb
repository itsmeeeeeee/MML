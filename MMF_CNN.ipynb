{
  "nbformat": 4,
  "nbformat_minor": 0,
  "metadata": {
    "colab": {
      "provenance": [],
      "include_colab_link": true
    },
    "kernelspec": {
      "name": "python3",
      "display_name": "Python 3"
    },
    "language_info": {
      "name": "python"
    }
  },
  "cells": [
    {
      "cell_type": "markdown",
      "metadata": {
        "id": "view-in-github",
        "colab_type": "text"
      },
      "source": [
        "<a href=\"https://colab.research.google.com/github/itsmeeeeeee/MML/blob/main/MMF_CNN.ipynb\" target=\"_parent\"><img src=\"https://colab.research.google.com/assets/colab-badge.svg\" alt=\"Open In Colab\"/></a>"
      ]
    },
    {
      "cell_type": "markdown",
      "source": [
        "# (MMF) Multimodal Fusion Model (without self-attention) and CNN Classifier"
      ],
      "metadata": {
        "id": "kETBw8-lbR1j"
      }
    },
    {
      "cell_type": "code",
      "source": [
        "import os\n",
        "import numpy as np\n",
        "import pandas as pd\n",
        "import torch\n",
        "import torch.nn as nn\n",
        "import torch.optim as optim\n",
        "from torch.utils.data import DataLoader, TensorDataset\n",
        "from sklearn.model_selection import train_test_split\n",
        "from torchvision import models, transforms\n",
        "from PIL import Image, ImageFile\n",
        "\n",
        "import torch.nn.functional as F\n",
        "from torch.optim.lr_scheduler import ReduceLROnPlateau\n",
        "\n",
        "# Mount Google Drive\n",
        "from google.colab import drive\n",
        "drive.mount('/content/drive', force_remount=True)"
      ],
      "metadata": {
        "colab": {
          "base_uri": "https://localhost:8080/"
        },
        "id": "T8a9Rc7Ojewz",
        "outputId": "f40daa84-aa59-4164-fc01-6fb7c89d01ce"
      },
      "execution_count": 1,
      "outputs": [
        {
          "output_type": "stream",
          "name": "stdout",
          "text": [
            "Mounted at /content/drive\n"
          ]
        }
      ]
    },
    {
      "cell_type": "code",
      "source": [
        "import pandas as pd\n",
        "import numpy as np\n",
        "import torch\n",
        "\n",
        "# Load labels from CSV\n",
        "file_path_labels = \"/content/drive/MyDrive/MultimodalNLP/projekt/data/labels.csv\"\n",
        "labeled_data = pd.read_csv(file_path_labels)\n",
        "labels = labeled_data['overall_sentiment'].values\n",
        "\n",
        "# Define your existing mapping\n",
        "label_mapping = {\n",
        "    \"very_negative\": 0,\n",
        "    \"negative\": 0,\n",
        "    \"positive\": 1,\n",
        "    \"very_positive\": 1\n",
        "}\n",
        "\n",
        "# Get valid indices for labels that exist in the mapping\n",
        "valid_indices = [i for i, label in enumerate(labels) if label in label_mapping]\n",
        "filtered_labels = [labels[i] for i in valid_indices]\n",
        "\n",
        "# Apply the mapping to convert filtered text labels to numeric labels\n",
        "numeric_labels = np.array([label_mapping[label] for label in filtered_labels])\n",
        "\n",
        "# Convert labels to a torch tensor\n",
        "numeric_labels = torch.tensor(numeric_labels, dtype=torch.long)\n",
        "print(\"numeric labels:\", numeric_labels.shape)\n",
        "\n",
        "# Load image features\n",
        "file_path_im = \"/content/drive/MyDrive/MultimodalNLP/projekt/features_data/image_features_restnet.npy\"\n",
        "image_features = np.load(file_path_im)\n",
        "\n",
        "# Load text features\n",
        "file_path_emb = \"/content/drive/MyDrive/MultimodalNLP/projekt/features_data/text_features_bert.npy\"\n",
        "text_features = np.load(file_path_emb)\n",
        "\n",
        "# Filter image and text features using valid indices\n",
        "filtered_image_features = torch.tensor(image_features[valid_indices], dtype=torch.float32)\n",
        "filtered_text_features = torch.tensor(text_features[valid_indices], dtype=torch.float32)\n",
        "\n",
        "print(\"Filtered Image features:\", filtered_image_features.shape)\n",
        "print(\"Filtered Text features:\", filtered_text_features.shape)\n"
      ],
      "metadata": {
        "colab": {
          "base_uri": "https://localhost:8080/"
        },
        "id": "4_r0i9Tc2mTA",
        "outputId": "a9d813e9-4c80-4f79-8e4d-98213ee34c45"
      },
      "execution_count": 2,
      "outputs": [
        {
          "output_type": "stream",
          "name": "stdout",
          "text": [
            "numeric labels: torch.Size([4791])\n",
            "Filtered Image features: torch.Size([4791, 1000])\n",
            "Filtered Text features: torch.Size([4791, 768])\n"
          ]
        }
      ]
    },
    {
      "cell_type": "code",
      "source": [
        "from sklearn.model_selection import train_test_split\n",
        "from torch.utils.data import DataLoader, TensorDataset\n",
        "\n",
        "\n",
        "\"\"\"\n",
        "Split the initial dataset into training and preliminary testing sets.\n",
        "20% of the data is reserved for preliminary testing, and 80% is used for training.\n",
        "\"\"\"\n",
        "train_text, prelim_test_text, train_image, prelim_test_image, train_labels, prelim_test_labels = train_test_split(\n",
        "    filtered_text_features, filtered_image_features, numeric_labels, test_size=0.2, random_state=42\n",
        ")\n",
        "\n",
        "\"\"\"\n",
        "Further split the preliminary testing data into validation and final test sets.\n",
        "40% of the preliminary test data is used for validation and 60% for the final testing.\n",
        "\"\"\"\n",
        "val_text, test_text, val_image, test_image, val_labels, test_labels = train_test_split(\n",
        "    prelim_test_text, prelim_test_image, prelim_test_labels, test_size=0.6, random_state=42\n",
        ")"
      ],
      "metadata": {
        "id": "YzAEnA_I7Prz",
        "collapsed": true
      },
      "execution_count": 3,
      "outputs": []
    },
    {
      "cell_type": "code",
      "source": [
        "from torch.utils.data import DataLoader, TensorDataset\n",
        "\n",
        "# DataLoaders für Training, Validierung und Test\n",
        "train_dataset = TensorDataset(train_text, train_image, train_labels)\n",
        "train_loader = DataLoader(train_dataset, batch_size=128, shuffle=True)\n",
        "\n",
        "val_dataset = TensorDataset(val_text, val_image, val_labels)\n",
        "val_loader = DataLoader(val_dataset, batch_size=128, shuffle=False)\n",
        "\n",
        "test_dataset = TensorDataset(test_text, test_image, test_labels)\n",
        "test_loader = DataLoader(test_dataset, batch_size=128, shuffle=False)\n"
      ],
      "metadata": {
        "id": "su4sOu9FzzWl"
      },
      "execution_count": 4,
      "outputs": []
    },
    {
      "cell_type": "code",
      "source": [
        "import torch\n",
        "import torch.nn as nn\n",
        "import torch.nn.functional as F\n",
        "\n",
        "class CNNClassifier(nn.Module):\n",
        "    def __init__(self, input_channels, num_channels, num_classes, hidden_dim):\n",
        "        super(CNNClassifier, self).__init__()\n",
        "        kernel_size = 3\n",
        "        padding = 1\n",
        "        stride = 1\n",
        "        pool_kernel_size = 2\n",
        "        pool_stride = 2\n",
        "\n",
        "        # Calculate the size after each layer\n",
        "        size_after_conv = (hidden_dim + 2 * padding - (kernel_size - 1) - 1) // stride + 1\n",
        "        size_after_pool = size_after_conv // pool_stride\n",
        "\n",
        "        size_after_conv2 = (size_after_pool + 2 * padding - (kernel_size - 1) - 1) // stride + 1\n",
        "        final_size = size_after_conv2 // pool_stride\n",
        "\n",
        "        self.conv1 = nn.Conv1d(input_channels, num_channels, kernel_size, padding=padding)\n",
        "        self.conv2 = nn.Conv1d(num_channels, num_channels * 2, kernel_size, padding=padding)\n",
        "        self.pool = nn.MaxPool1d(pool_kernel_size, stride=pool_stride)\n",
        "\n",
        "        # Fully connected layer input size calculation\n",
        "        self.fc_input_size = num_channels * 2 * final_size\n",
        "        self.fc = nn.Linear(self.fc_input_size, num_classes)\n",
        "\n",
        "    def forward(self, x):\n",
        "        x = F.relu(self.conv1(x))\n",
        "        x = self.pool(x)\n",
        "        x = F.relu(self.conv2(x))\n",
        "        x = self.pool(x)\n",
        "        x = torch.flatten(x, 1)\n",
        "        x = self.fc(x)\n",
        "        return x\n",
        "\n",
        "class MultimodalFusionCNNClassifier(nn.Module):\n",
        "    def __init__(self, text_dim, image_dim, hidden_dim, num_classes):\n",
        "        super(MultimodalFusionCNNClassifier, self).__init__()\n",
        "        self.text_model = nn.Linear(text_dim, hidden_dim)\n",
        "        self.image_model = nn.Linear(image_dim, hidden_dim)\n",
        "        self.classifier = CNNClassifier(2, hidden_dim, num_classes, hidden_dim)\n",
        "        self.hidden_dim = hidden_dim  # Ensure hidden_dim is stored as an instance variable\n",
        "\n",
        "    def forward(self, text_features, image_features):\n",
        "        text_features = self.text_model(text_features)\n",
        "        image_features = self.image_model(image_features)\n",
        "        # Combine text and image features\n",
        "        combined_features = torch.cat([text_features, image_features], dim=1)\n",
        "        combined_features = combined_features.view(-1, 2, self.hidden_dim)  # Use self.hidden_dim correctly\n",
        "        # Classification\n",
        "        output = self.classifier(combined_features)\n",
        "        return output\n",
        "\n"
      ],
      "metadata": {
        "id": "B2xYQB92QRxu"
      },
      "execution_count": 5,
      "outputs": []
    },
    {
      "cell_type": "code",
      "source": [
        "\"\"\"\n",
        "initialize the model with specidied dimensions and number of classes\n",
        "text_dim=768: Dimension of text input features\n",
        "image_dim=1000: Dimension of image input features\n",
        "hidden_dim=128: Dimension of hidden layers used for processing and integrating features\n",
        "num_classes=3: Number of output classes for classification\n",
        "\"\"\"\n",
        "\n",
        "model = MultimodalFusionCNNClassifier(text_dim=768, image_dim=1000, hidden_dim=128, num_classes=2)\n",
        "optimizer_CNN = torch.optim.Adam(model.parameters(), lr=0.001)\n",
        "criterion_CNN = nn.CrossEntropyLoss()\n",
        "\n",
        "# ReduceLROnPlateau is used for reducing the learning rate when a metric has stopped improving.\n",
        "# Here, 'mode' is set to 'min', meaning the scheduler will reduce the learning rate when the monitored quantity stops decreasing.\n",
        "# The reduction factor is set to 0.1, reducing the learning rate to 10% of its current value when a plateau is reached.\n",
        "\n",
        "scheduler = ReduceLROnPlateau(optimizer_CNN, mode='min', factor=0.1)\n"
      ],
      "metadata": {
        "id": "UppFD7ozBCql"
      },
      "execution_count": 6,
      "outputs": []
    },
    {
      "cell_type": "code",
      "source": [
        "import torch\n",
        "import numpy as np\n",
        "\n",
        "def train_model(model, train_loader, val_loader, epochs, optimizer, criterion, scheduler, patience=10):\n",
        "    trigger_times = 0  # Counter for the number of times validation loss has not improved\n",
        "    best_val_loss = float('inf')  # Initialize the best validation loss\n",
        "    best_model_state = None  # To store the best model state\n",
        "\n",
        "    device = next(model.parameters()).device  # Get the device from the model parameters\n",
        "\n",
        "    for epoch in range(epochs):\n",
        "        model.train()  # Set the model to training mode\n",
        "        total_train_loss = 0\n",
        "        for texts, images, labels in train_loader:\n",
        "            texts, images, labels = texts.to(device), images.to(device), labels.to(device)\n",
        "            optimizer.zero_grad()  # Reset gradients to zero for a new optimization step\n",
        "            outputs = model(texts, images)\n",
        "            loss = criterion(outputs, labels)  # Compute loss\n",
        "            loss.backward()\n",
        "            optimizer.step()\n",
        "            total_train_loss += loss.item()  # Accumulate loss over the epoch\n",
        "\n",
        "        model.eval()  # Set the model to evaluation mode\n",
        "        total_val_loss = 0\n",
        "        with torch.no_grad():\n",
        "            for texts, images, labels in val_loader:\n",
        "                texts, images, labels = texts.to(device), images.to(device), labels.to(device)\n",
        "                outputs = model(texts, images)\n",
        "                loss = criterion(outputs, labels)\n",
        "                total_val_loss += loss.item()\n",
        "\n",
        "        average_train_loss = total_train_loss / len(train_loader)\n",
        "        average_val_loss = total_val_loss / len(val_loader)\n",
        "        print(f'Epoch {epoch+1}: Training Loss: {average_train_loss:.4f} | Validation Loss: {average_val_loss:.4f}')\n",
        "\n",
        "        scheduler.step(average_val_loss)\n",
        "\n",
        "        # Update the trigger counter and check for early stopping\n",
        "        if average_val_loss < best_val_loss:\n",
        "            best_val_loss = average_val_loss\n",
        "            best_model_state = model.state_dict()  # Save the best model state\n",
        "            trigger_times = 0  # Reset the trigger times since we found a new best\n",
        "        else:\n",
        "            trigger_times += 1  # Increment the trigger times\n",
        "            if trigger_times >= patience:\n",
        "                print('Early stopping triggered!')\n",
        "                break\n",
        "\n",
        "    # Load the best model state back into the model\n",
        "    if best_model_state:\n",
        "        model.load_state_dict(best_model_state)\n",
        "    return model\n",
        "\n",
        "\n",
        "\n",
        "best_model_cnn = train_model(model, train_loader, val_loader, 50, optimizer_CNN, criterion_CNN, scheduler, patience=10)\n",
        "\n"
      ],
      "metadata": {
        "colab": {
          "base_uri": "https://localhost:8080/"
        },
        "id": "oNvkOuTEo5Di",
        "outputId": "6da1c7ae-518b-4d90-8a78-c7fda354aae7"
      },
      "execution_count": 7,
      "outputs": [
        {
          "output_type": "stream",
          "name": "stdout",
          "text": [
            "Epoch 1: Training Loss: 0.4400 | Validation Loss: 0.3915\n",
            "Epoch 2: Training Loss: 0.4009 | Validation Loss: 0.3935\n",
            "Epoch 3: Training Loss: 0.3982 | Validation Loss: 0.3859\n",
            "Epoch 4: Training Loss: 0.3896 | Validation Loss: 0.3981\n",
            "Epoch 5: Training Loss: 0.3852 | Validation Loss: 0.4097\n",
            "Epoch 6: Training Loss: 0.3895 | Validation Loss: 0.3989\n",
            "Epoch 7: Training Loss: 0.3730 | Validation Loss: 0.3932\n",
            "Epoch 8: Training Loss: 0.3559 | Validation Loss: 0.4318\n",
            "Epoch 9: Training Loss: 0.3470 | Validation Loss: 0.4413\n",
            "Epoch 10: Training Loss: 0.3283 | Validation Loss: 0.4338\n",
            "Epoch 11: Training Loss: 0.3165 | Validation Loss: 0.4415\n",
            "Epoch 12: Training Loss: 0.2832 | Validation Loss: 0.4901\n",
            "Epoch 13: Training Loss: 0.2737 | Validation Loss: 0.4712\n",
            "Early stopping triggered!\n"
          ]
        }
      ]
    },
    {
      "cell_type": "code",
      "source": [
        "\"\"\"\n",
        "Code is based on guidance from:\n",
        "- https://machinelearningmodels.org/evaluating-the-accuracy-score-of-your-machine-learning-model/\n",
        "- https://scikit-learn.org/stable/modules/model_evaluation.html#\n",
        "\n",
        "\"\"\"\n",
        "\n",
        "import torch\n",
        "import numpy as np\n",
        "from sklearn.metrics import accuracy_score, precision_score, recall_score, f1_score, confusion_matrix\n",
        "import matplotlib.pyplot as plt\n",
        "import seaborn as sns\n",
        "\n",
        "def evaluate_model(model, loader):\n",
        "    model.eval()\n",
        "    all_outputs = []\n",
        "    all_predictions = []\n",
        "    all_labels = []\n",
        "\n",
        "    with torch.no_grad():  # Deaktiviere die Gradientenberechnung\n",
        "        for texts, images, labels in loader:\n",
        "            outputs = model(texts, images)\n",
        "            _, predicted = torch.max(outputs.data, 1)\n",
        "            all_outputs.append(outputs.cpu().numpy())\n",
        "            all_predictions.extend(predicted.tolist())\n",
        "            all_labels.extend(labels.tolist())\n",
        "\n",
        "    # Berechne Metriken mit 'macro' Durchschnitt\n",
        "    test_accuracy = accuracy_score(all_labels, all_predictions)\n",
        "    test_precision = precision_score(all_labels, all_predictions, average='macro')\n",
        "    test_recall = recall_score(all_labels, all_predictions, average='macro')\n",
        "    test_f1 = f1_score(all_labels, all_predictions, average='macro')\n",
        "    test_conf_matrix = confusion_matrix(all_labels, all_predictions)\n",
        "\n",
        "    print(\"Test Accuracy:\", test_accuracy)\n",
        "    print(\"Precision (Macro):\", test_precision)\n",
        "    print(\"Recall (Macro):\", test_recall)\n",
        "    print(\"F1 Score (Macro):\", test_f1)\n",
        "    return test_accuracy, test_precision, test_recall, test_f1, test_conf_matrix\n",
        "\n",
        "# Annahme: Model und Test-Loader sind anderswo definiert\n",
        "test_accuracy, test_precision, test_recall, test_f1, test_conf_matrix = evaluate_model(best_model_cnn, test_loader)\n"
      ],
      "metadata": {
        "colab": {
          "base_uri": "https://localhost:8080/"
        },
        "id": "iME-upK_3H5c",
        "outputId": "5bf6215e-2282-4909-897a-79a4e9886215"
      },
      "execution_count": 8,
      "outputs": [
        {
          "output_type": "stream",
          "name": "stdout",
          "text": [
            "Test Accuracy: 0.8645833333333334\n",
            "Precision (Macro): 0.49094202898550726\n",
            "Recall (Macro): 0.49600585807482356\n",
            "F1 Score (Macro): 0.48794164577159793\n"
          ]
        }
      ]
    },
    {
      "cell_type": "code",
      "source": [
        "plt.figure(figsize=(6, 4))\n",
        "sns.heatmap(test_conf_matrix, annot=True, fmt='d', cmap='Blues', xticklabels=True, yticklabels=True)\n",
        "plt.xlabel('Predicted Labels')\n",
        "plt.ylabel('True Labels')\n",
        "plt.title('Confusion Matrix')\n",
        "plt.show()"
      ],
      "metadata": {
        "colab": {
          "base_uri": "https://localhost:8080/",
          "height": 410
        },
        "id": "aMDBuoPhQeOv",
        "outputId": "a50983ff-9361-4fe9-eab1-d4f23d6035ec"
      },
      "execution_count": 9,
      "outputs": [
        {
          "output_type": "display_data",
          "data": {
            "text/plain": [
              "<Figure size 600x400 with 2 Axes>"
            ],
            "image/png": "[encoded data removed]"
          },
          "metadata": {}
        }
      ]
    },
    {
      "cell_type": "code",
      "source": [],
      "metadata": {
        "id": "qtivCwYr85jC"
      },
      "execution_count": 9,
      "outputs": []
    }
  ]
}